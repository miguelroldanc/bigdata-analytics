{
 "cells": [
  {
   "attachments": {},
   "cell_type": "markdown",
   "metadata": {},
   "source": [
    "Analítica de datos en Big Data\n",
    "===========\n",
    "***Big Data II***\n",
    "\n",
    "***Máster en Ciencia de Datos e Ingeniería de Computadores***\n",
    "\n",
    "**Autor:** *Miguel Ángel Roldán Carmona*\n",
    "\n",
    "**Correo:** *miguelroldanc@correo.ugr.es*\n",
    "\n",
    "---"
   ]
  },
  {
   "attachments": {},
   "cell_type": "markdown",
   "metadata": {},
   "source": [
    "# Descripción del problema\n",
    "\n",
    "El objetivo de esta práctica es resolver el problema de clasificación no balanceada asociado a un conjunto de datos muestreado de un problema Big Data que presenta 1 millón de instancias y está desbalanceado. \n",
    "\n",
    "Para ello, se utilizará la biblioteca Spark ML y los algoritmos disponibles en Spark Package mediante el lenguaje de programación Python. Podemos separar el problema en dos apartados:\n",
    "- Aprendizaje. De la biblioteca MLlib se utilizarán los algoritmos Decision Tree, Random Forest y Logistic Regression. Además, se usará el algoritmo LightGBM.\n",
    "\n",
    "- Preprocesamiento. Se utilizarán los algoritmos de preprocesamiento de \"balanceo\" de datos ROS, RUS proporcionados en el material de la asignatura y el algoritmo UnivariateFeatureSelector de SparkML para la selección de características.\n",
    "\n",
    "---"
   ]
  },
  {
   "attachments": {},
   "cell_type": "markdown",
   "metadata": {},
   "source": [
    "# Creación de la sesión"
   ]
  },
  {
   "cell_type": "code",
   "execution_count": 1,
   "metadata": {},
   "outputs": [
    {
     "name": "stdout",
     "output_type": "stream",
     "text": [
      "23/05/15 12:49:08 WARN Utils: Your hostname, miguel-HP-Notebook resolves to a loopback address: 127.0.1.1; using 192.168.1.35 instead (on interface wlo1)\n",
      "23/05/15 12:49:08 WARN Utils: Set SPARK_LOCAL_IP if you need to bind to another address\n",
      ":: loading settings :: url = jar:file:/home/miguel/.local/lib/python3.10/site-packages/pyspark/jars/ivy-2.5.1.jar!/org/apache/ivy/core/settings/ivysettings.xml\n"
     ]
    },
    {
     "name": "stderr",
     "output_type": "stream",
     "text": [
      "Ivy Default Cache set to: /home/miguel/.ivy2/cache\n",
      "The jars for the packages stored in: /home/miguel/.ivy2/jars\n",
      "com.microsoft.azure#synapseml_2.12 added as a dependency\n",
      ":: resolving dependencies :: org.apache.spark#spark-submit-parent-b3f02de1-faf3-4fca-af30-c617ae545e50;1.0\n",
      "\tconfs: [default]\n",
      "\tfound com.microsoft.azure#synapseml_2.12;0.9.5 in central\n",
      "\tfound com.microsoft.azure#synapseml-core_2.12;0.9.5 in central\n",
      "\tfound org.scalactic#scalactic_2.12;3.0.5 in central\n",
      "\tfound org.scala-lang#scala-reflect;2.12.4 in central\n",
      "\tfound io.spray#spray-json_2.12;1.3.2 in central\n",
      "\tfound com.jcraft#jsch;0.1.54 in central\n",
      "\tfound org.apache.httpcomponents#httpclient;4.5.6 in central\n",
      "\tfound org.apache.httpcomponents#httpcore;4.4.10 in central\n",
      "\tfound commons-logging#commons-logging;1.2 in central\n",
      "\tfound commons-codec#commons-codec;1.10 in central\n",
      "\tfound org.apache.httpcomponents#httpmime;4.5.6 in central\n",
      "\tfound com.linkedin.isolation-forest#isolation-forest_3.2.0_2.12;2.0.8 in central\n",
      "\tfound com.chuusai#shapeless_2.12;2.3.2 in central\n",
      "\tfound org.typelevel#macro-compat_2.12;1.1.1 in central\n",
      "\tfound org.apache.spark#spark-avro_2.12;3.2.0 in central\n",
      "\tfound org.tukaani#xz;1.8 in central\n",
      "\tfound org.spark-project.spark#unused;1.0.0 in central\n",
      "\tfound org.testng#testng;6.8.8 in central\n",
      "\tfound org.beanshell#bsh;2.0b4 in central\n",
      "\tfound com.beust#jcommander;1.27 in central\n",
      "\tfound com.microsoft.azure#synapseml-deep-learning_2.12;0.9.5 in central\n",
      "\tfound com.microsoft.azure#synapseml-opencv_2.12;0.9.5 in central\n",
      "\tfound org.openpnp#opencv;3.2.0-1 in central\n",
      "\tfound com.microsoft.cntk#cntk;2.4 in central\n",
      "\tfound com.microsoft.onnxruntime#onnxruntime_gpu;1.8.1 in central\n",
      "\tfound com.microsoft.azure#synapseml-cognitive_2.12;0.9.5 in central\n",
      "\tfound com.microsoft.cognitiveservices.speech#client-jar-sdk;1.14.0 in central\n",
      "\tfound com.azure#azure-storage-blob;12.14.2 in central\n",
      "\tfound com.azure#azure-core;1.22.0 in central\n",
      "\tfound com.fasterxml.jackson.core#jackson-annotations;2.12.5 in central\n",
      "\tfound com.fasterxml.jackson.core#jackson-core;2.12.5 in central\n",
      "\tfound com.fasterxml.jackson.core#jackson-databind;2.12.5 in central\n",
      "\tfound com.fasterxml.jackson.datatype#jackson-datatype-jsr310;2.12.5 in central\n",
      "\tfound com.fasterxml.jackson.dataformat#jackson-dataformat-xml;2.12.5 in central\n",
      "\tfound com.fasterxml.jackson.module#jackson-module-jaxb-annotations;2.12.5 in central\n",
      "\tfound jakarta.xml.bind#jakarta.xml.bind-api;2.3.2 in central\n",
      "\tfound jakarta.activation#jakarta.activation-api;1.2.1 in central\n",
      "\tfound org.codehaus.woodstox#stax2-api;4.2.1 in central\n",
      "\tfound com.fasterxml.woodstox#woodstox-core;6.2.4 in central\n",
      "\tfound org.slf4j#slf4j-api;1.7.32 in central\n",
      "\tfound io.projectreactor#reactor-core;3.4.10 in central\n",
      "\tfound org.reactivestreams#reactive-streams;1.0.3 in central\n",
      "\tfound io.netty#netty-tcnative-boringssl-static;2.0.43.Final in central\n",
      "\tfound com.azure#azure-core-http-netty;1.11.2 in central\n",
      "\tfound io.netty#netty-handler;4.1.68.Final in central\n",
      "\tfound io.netty#netty-common;4.1.68.Final in central\n",
      "\tfound io.netty#netty-resolver;4.1.68.Final in central\n",
      "\tfound io.netty#netty-buffer;4.1.68.Final in central\n",
      "\tfound io.netty#netty-transport;4.1.68.Final in central\n",
      "\tfound io.netty#netty-codec;4.1.68.Final in central\n",
      "\tfound io.netty#netty-handler-proxy;4.1.68.Final in central\n",
      "\tfound io.netty#netty-codec-socks;4.1.68.Final in central\n",
      "\tfound io.netty#netty-codec-http;4.1.68.Final in central\n",
      "\tfound io.netty#netty-codec-http2;4.1.68.Final in central\n",
      "\tfound io.netty#netty-transport-native-unix-common;4.1.68.Final in central\n",
      "\tfound io.netty#netty-transport-native-epoll;4.1.68.Final in central\n",
      "\tfound io.netty#netty-transport-native-kqueue;4.1.68.Final in central\n",
      "\tfound io.projectreactor.netty#reactor-netty-http;1.0.11 in central\n",
      "\tfound io.netty#netty-resolver-dns;4.1.68.Final in central\n",
      "\tfound io.netty#netty-codec-dns;4.1.68.Final in central\n",
      "\tfound io.netty#netty-resolver-dns-native-macos;4.1.68.Final in central\n",
      "\tfound io.projectreactor.netty#reactor-netty-core;1.0.11 in central\n",
      "\tfound com.azure#azure-storage-common;12.14.1 in central\n",
      "\tfound com.azure#azure-storage-internal-avro;12.1.2 in central\n",
      "\tfound com.azure#azure-ai-textanalytics;5.1.4 in central\n",
      "\tfound com.microsoft.azure#synapseml-vw_2.12;0.9.5 in central\n",
      "\tfound com.github.vowpalwabbit#vw-jni;8.9.1 in central\n",
      "\tfound com.microsoft.azure#synapseml-lightgbm_2.12;0.9.5 in central\n",
      "\tfound com.microsoft.ml.lightgbm#lightgbmlib;3.2.110 in central\n",
      "downloading https://repo1.maven.org/maven2/com/microsoft/azure/synapseml_2.12/0.9.5/synapseml_2.12-0.9.5.jar ...\n",
      "\t[SUCCESSFUL ] com.microsoft.azure#synapseml_2.12;0.9.5!synapseml_2.12.jar (110ms)\n",
      "downloading https://repo1.maven.org/maven2/com/microsoft/azure/synapseml-core_2.12/0.9.5/synapseml-core_2.12-0.9.5.jar ...\n",
      "\t[SUCCESSFUL ] com.microsoft.azure#synapseml-core_2.12;0.9.5!synapseml-core_2.12.jar (37227ms)\n",
      "downloading https://repo1.maven.org/maven2/com/microsoft/azure/synapseml-deep-learning_2.12/0.9.5/synapseml-deep-learning_2.12-0.9.5.jar ...\n",
      "\t[SUCCESSFUL ] com.microsoft.azure#synapseml-deep-learning_2.12;0.9.5!synapseml-deep-learning_2.12.jar (3860ms)\n",
      "downloading https://repo1.maven.org/maven2/com/microsoft/azure/synapseml-cognitive_2.12/0.9.5/synapseml-cognitive_2.12-0.9.5.jar ...\n",
      "\t[SUCCESSFUL ] com.microsoft.azure#synapseml-cognitive_2.12;0.9.5!synapseml-cognitive_2.12.jar (28766ms)\n",
      "downloading https://repo1.maven.org/maven2/com/microsoft/azure/synapseml-vw_2.12/0.9.5/synapseml-vw_2.12-0.9.5.jar ...\n",
      "\t[SUCCESSFUL ] com.microsoft.azure#synapseml-vw_2.12;0.9.5!synapseml-vw_2.12.jar (2758ms)\n",
      "downloading https://repo1.maven.org/maven2/com/microsoft/azure/synapseml-lightgbm_2.12/0.9.5/synapseml-lightgbm_2.12-0.9.5.jar ...\n",
      "\t[SUCCESSFUL ] com.microsoft.azure#synapseml-lightgbm_2.12;0.9.5!synapseml-lightgbm_2.12.jar (5317ms)\n",
      "downloading https://repo1.maven.org/maven2/com/microsoft/azure/synapseml-opencv_2.12/0.9.5/synapseml-opencv_2.12-0.9.5.jar ...\n",
      "\t[SUCCESSFUL ] com.microsoft.azure#synapseml-opencv_2.12;0.9.5!synapseml-opencv_2.12.jar (765ms)\n",
      "downloading https://repo1.maven.org/maven2/org/scalactic/scalactic_2.12/3.0.5/scalactic_2.12-3.0.5.jar ...\n",
      "\t[SUCCESSFUL ] org.scalactic#scalactic_2.12;3.0.5!scalactic_2.12.jar(bundle) (10522ms)\n",
      "downloading https://repo1.maven.org/maven2/io/spray/spray-json_2.12/1.3.2/spray-json_2.12-1.3.2.jar ...\n",
      "\t[SUCCESSFUL ] io.spray#spray-json_2.12;1.3.2!spray-json_2.12.jar(bundle) (3572ms)\n",
      "downloading https://repo1.maven.org/maven2/com/jcraft/jsch/0.1.54/jsch-0.1.54.jar ...\n",
      "\t[SUCCESSFUL ] com.jcraft#jsch;0.1.54!jsch.jar (3977ms)\n",
      "downloading https://repo1.maven.org/maven2/org/apache/httpcomponents/httpclient/4.5.6/httpclient-4.5.6.jar ...\n",
      "\t[SUCCESSFUL ] org.apache.httpcomponents#httpclient;4.5.6!httpclient.jar (11798ms)\n",
      "downloading https://repo1.maven.org/maven2/org/apache/httpcomponents/httpmime/4.5.6/httpmime-4.5.6.jar ...\n",
      "\t[SUCCESSFUL ] org.apache.httpcomponents#httpmime;4.5.6!httpmime.jar (791ms)\n",
      "downloading https://repo1.maven.org/maven2/com/linkedin/isolation-forest/isolation-forest_3.2.0_2.12/2.0.8/isolation-forest_3.2.0_2.12-2.0.8.jar ...\n",
      "\t[SUCCESSFUL ] com.linkedin.isolation-forest#isolation-forest_3.2.0_2.12;2.0.8!isolation-forest_3.2.0_2.12.jar (548ms)\n",
      "downloading https://repo1.maven.org/maven2/org/scala-lang/scala-reflect/2.12.4/scala-reflect-2.12.4.jar ...\n",
      "\t[SUCCESSFUL ] org.scala-lang#scala-reflect;2.12.4!scala-reflect.jar (34195ms)\n",
      "downloading https://repo1.maven.org/maven2/org/apache/httpcomponents/httpcore/4.4.10/httpcore-4.4.10.jar ...\n",
      "\t[SUCCESSFUL ] org.apache.httpcomponents#httpcore;4.4.10!httpcore.jar (2854ms)\n",
      "downloading https://repo1.maven.org/maven2/commons-logging/commons-logging/1.2/commons-logging-1.2.jar ...\n",
      "\t[SUCCESSFUL ] commons-logging#commons-logging;1.2!commons-logging.jar (1051ms)\n",
      "downloading https://repo1.maven.org/maven2/commons-codec/commons-codec/1.10/commons-codec-1.10.jar ...\n",
      "\t[SUCCESSFUL ] commons-codec#commons-codec;1.10!commons-codec.jar (4975ms)\n",
      "downloading https://repo1.maven.org/maven2/com/chuusai/shapeless_2.12/2.3.2/shapeless_2.12-2.3.2.jar ...\n",
      "\t[SUCCESSFUL ] com.chuusai#shapeless_2.12;2.3.2!shapeless_2.12.jar(bundle) (35019ms)\n",
      "downloading https://repo1.maven.org/maven2/org/apache/spark/spark-avro_2.12/3.2.0/spark-avro_2.12-3.2.0.jar ...\n",
      "\t[SUCCESSFUL ] org.apache.spark#spark-avro_2.12;3.2.0!spark-avro_2.12.jar (1859ms)\n",
      "downloading https://repo1.maven.org/maven2/org/testng/testng/6.8.8/testng-6.8.8.jar ...\n",
      "\t[SUCCESSFUL ] org.testng#testng;6.8.8!testng.jar (11662ms)\n",
      "downloading https://repo1.maven.org/maven2/org/typelevel/macro-compat_2.12/1.1.1/macro-compat_2.12-1.1.1.jar ...\n",
      "\t[SUCCESSFUL ] org.typelevel#macro-compat_2.12;1.1.1!macro-compat_2.12.jar (137ms)\n",
      "downloading https://repo1.maven.org/maven2/org/tukaani/xz/1.8/xz-1.8.jar ...\n",
      "\t[SUCCESSFUL ] org.tukaani#xz;1.8!xz.jar (1697ms)\n",
      "downloading https://repo1.maven.org/maven2/org/spark-project/spark/unused/1.0.0/unused-1.0.0.jar ...\n",
      "\t[SUCCESSFUL ] org.spark-project.spark#unused;1.0.0!unused.jar (56ms)\n",
      "downloading https://repo1.maven.org/maven2/org/beanshell/bsh/2.0b4/bsh-2.0b4.jar ...\n",
      "\t[SUCCESSFUL ] org.beanshell#bsh;2.0b4!bsh.jar (4070ms)\n",
      "downloading https://repo1.maven.org/maven2/com/beust/jcommander/1.27/jcommander-1.27.jar ...\n",
      "\t[SUCCESSFUL ] com.beust#jcommander;1.27!jcommander.jar (1037ms)\n",
      "downloading https://repo1.maven.org/maven2/com/microsoft/cntk/cntk/2.4/cntk-2.4.jar ...\n",
      "\t[SUCCESSFUL ] com.microsoft.cntk#cntk;2.4!cntk.jar (824959ms)\n",
      "downloading https://repo1.maven.org/maven2/com/microsoft/onnxruntime/onnxruntime_gpu/1.8.1/onnxruntime_gpu-1.8.1.jar ...\n",
      "\t[SUCCESSFUL ] com.microsoft.onnxruntime#onnxruntime_gpu;1.8.1!onnxruntime_gpu.jar (72925ms)\n",
      "downloading https://repo1.maven.org/maven2/org/openpnp/opencv/3.2.0-1/opencv-3.2.0-1.jar ...\n",
      "\t[SUCCESSFUL ] org.openpnp#opencv;3.2.0-1!opencv.jar(bundle) (19749ms)\n",
      "downloading https://repo1.maven.org/maven2/com/microsoft/cognitiveservices/speech/client-jar-sdk/1.14.0/client-jar-sdk-1.14.0.jar ...\n",
      "\t[SUCCESSFUL ] com.microsoft.cognitiveservices.speech#client-jar-sdk;1.14.0!client-jar-sdk.jar (3505ms)\n",
      "downloading https://repo1.maven.org/maven2/com/azure/azure-storage-blob/12.14.2/azure-storage-blob-12.14.2.jar ...\n",
      "\t[SUCCESSFUL ] com.azure#azure-storage-blob;12.14.2!azure-storage-blob.jar (244ms)\n",
      "downloading https://repo1.maven.org/maven2/com/azure/azure-ai-textanalytics/5.1.4/azure-ai-textanalytics-5.1.4.jar ...\n",
      "\t[SUCCESSFUL ] com.azure#azure-ai-textanalytics;5.1.4!azure-ai-textanalytics.jar (140ms)\n",
      "downloading https://repo1.maven.org/maven2/com/azure/azure-core/1.22.0/azure-core-1.22.0.jar ...\n",
      "\t[SUCCESSFUL ] com.azure#azure-core;1.22.0!azure-core.jar (182ms)\n",
      "downloading https://repo1.maven.org/maven2/com/azure/azure-core-http-netty/1.11.2/azure-core-http-netty-1.11.2.jar ...\n",
      "\t[SUCCESSFUL ] com.azure#azure-core-http-netty;1.11.2!azure-core-http-netty.jar (56ms)\n",
      "downloading https://repo1.maven.org/maven2/com/azure/azure-storage-common/12.14.1/azure-storage-common-12.14.1.jar ...\n",
      "\t[SUCCESSFUL ] com.azure#azure-storage-common;12.14.1!azure-storage-common.jar (64ms)\n",
      "downloading https://repo1.maven.org/maven2/com/azure/azure-storage-internal-avro/12.1.2/azure-storage-internal-avro-12.1.2.jar ...\n",
      "\t[SUCCESSFUL ] com.azure#azure-storage-internal-avro;12.1.2!azure-storage-internal-avro.jar (53ms)\n",
      "downloading https://repo1.maven.org/maven2/com/fasterxml/jackson/core/jackson-annotations/2.12.5/jackson-annotations-2.12.5.jar ...\n",
      "\t[SUCCESSFUL ] com.fasterxml.jackson.core#jackson-annotations;2.12.5!jackson-annotations.jar(bundle) (56ms)\n",
      "downloading https://repo1.maven.org/maven2/com/fasterxml/jackson/core/jackson-core/2.12.5/jackson-core-2.12.5.jar ...\n",
      "\t[SUCCESSFUL ] com.fasterxml.jackson.core#jackson-core;2.12.5!jackson-core.jar(bundle) (136ms)\n",
      "downloading https://repo1.maven.org/maven2/com/fasterxml/jackson/core/jackson-databind/2.12.5/jackson-databind-2.12.5.jar ...\n",
      "\t[SUCCESSFUL ] com.fasterxml.jackson.core#jackson-databind;2.12.5!jackson-databind.jar(bundle) (447ms)\n",
      "downloading https://repo1.maven.org/maven2/com/fasterxml/jackson/datatype/jackson-datatype-jsr310/2.12.5/jackson-datatype-jsr310-2.12.5.jar ...\n",
      "\t[SUCCESSFUL ] com.fasterxml.jackson.datatype#jackson-datatype-jsr310;2.12.5!jackson-datatype-jsr310.jar(bundle) (75ms)\n",
      "downloading https://repo1.maven.org/maven2/com/fasterxml/jackson/dataformat/jackson-dataformat-xml/2.12.5/jackson-dataformat-xml-2.12.5.jar ...\n",
      "\t[SUCCESSFUL ] com.fasterxml.jackson.dataformat#jackson-dataformat-xml;2.12.5!jackson-dataformat-xml.jar(bundle) (67ms)\n",
      "downloading https://repo1.maven.org/maven2/org/slf4j/slf4j-api/1.7.32/slf4j-api-1.7.32.jar ...\n",
      "\t[SUCCESSFUL ] org.slf4j#slf4j-api;1.7.32!slf4j-api.jar (52ms)\n",
      "downloading https://repo1.maven.org/maven2/io/projectreactor/reactor-core/3.4.10/reactor-core-3.4.10.jar ...\n",
      "\t[SUCCESSFUL ] io.projectreactor#reactor-core;3.4.10!reactor-core.jar (404ms)\n",
      "downloading https://repo1.maven.org/maven2/io/netty/netty-tcnative-boringssl-static/2.0.43.Final/netty-tcnative-boringssl-static-2.0.43.Final.jar ...\n",
      "\t[SUCCESSFUL ] io.netty#netty-tcnative-boringssl-static;2.0.43.Final!netty-tcnative-boringssl-static.jar (1148ms)\n",
      "downloading https://repo1.maven.org/maven2/com/fasterxml/jackson/module/jackson-module-jaxb-annotations/2.12.5/jackson-module-jaxb-annotations-2.12.5.jar ...\n",
      "\t[SUCCESSFUL ] com.fasterxml.jackson.module#jackson-module-jaxb-annotations;2.12.5!jackson-module-jaxb-annotations.jar(bundle) (47ms)\n",
      "downloading https://repo1.maven.org/maven2/org/codehaus/woodstox/stax2-api/4.2.1/stax2-api-4.2.1.jar ...\n",
      "\t[SUCCESSFUL ] org.codehaus.woodstox#stax2-api;4.2.1!stax2-api.jar(bundle) (81ms)\n",
      "downloading https://repo1.maven.org/maven2/com/fasterxml/woodstox/woodstox-core/6.2.4/woodstox-core-6.2.4.jar ...\n",
      "\t[SUCCESSFUL ] com.fasterxml.woodstox#woodstox-core;6.2.4!woodstox-core.jar(bundle) (472ms)\n",
      "downloading https://repo1.maven.org/maven2/jakarta/xml/bind/jakarta.xml.bind-api/2.3.2/jakarta.xml.bind-api-2.3.2.jar ...\n",
      "\t[SUCCESSFUL ] jakarta.xml.bind#jakarta.xml.bind-api;2.3.2!jakarta.xml.bind-api.jar (65ms)\n",
      "downloading https://repo1.maven.org/maven2/jakarta/activation/jakarta.activation-api/1.2.1/jakarta.activation-api-1.2.1.jar ...\n",
      "\t[SUCCESSFUL ] jakarta.activation#jakarta.activation-api;1.2.1!jakarta.activation-api.jar (43ms)\n",
      "downloading https://repo1.maven.org/maven2/org/reactivestreams/reactive-streams/1.0.3/reactive-streams-1.0.3.jar ...\n",
      "\t[SUCCESSFUL ] org.reactivestreams#reactive-streams;1.0.3!reactive-streams.jar (37ms)\n",
      "downloading https://repo1.maven.org/maven2/io/netty/netty-handler/4.1.68.Final/netty-handler-4.1.68.Final.jar ...\n",
      "\t[SUCCESSFUL ] io.netty#netty-handler;4.1.68.Final!netty-handler.jar (182ms)\n",
      "downloading https://repo1.maven.org/maven2/io/netty/netty-handler-proxy/4.1.68.Final/netty-handler-proxy-4.1.68.Final.jar ...\n",
      "\t[SUCCESSFUL ] io.netty#netty-handler-proxy;4.1.68.Final!netty-handler-proxy.jar (39ms)\n",
      "downloading https://repo1.maven.org/maven2/io/netty/netty-buffer/4.1.68.Final/netty-buffer-4.1.68.Final.jar ...\n",
      "\t[SUCCESSFUL ] io.netty#netty-buffer;4.1.68.Final!netty-buffer.jar (105ms)\n",
      "downloading https://repo1.maven.org/maven2/io/netty/netty-codec-http/4.1.68.Final/netty-codec-http-4.1.68.Final.jar ...\n",
      "\t[SUCCESSFUL ] io.netty#netty-codec-http;4.1.68.Final!netty-codec-http.jar (165ms)\n",
      "downloading https://repo1.maven.org/maven2/io/netty/netty-codec-http2/4.1.68.Final/netty-codec-http2-4.1.68.Final.jar ...\n",
      "\t[SUCCESSFUL ] io.netty#netty-codec-http2;4.1.68.Final!netty-codec-http2.jar (214ms)\n",
      "downloading https://repo1.maven.org/maven2/io/netty/netty-transport-native-unix-common/4.1.68.Final/netty-transport-native-unix-common-4.1.68.Final.jar ...\n",
      "\t[SUCCESSFUL ] io.netty#netty-transport-native-unix-common;4.1.68.Final!netty-transport-native-unix-common.jar (49ms)\n",
      "downloading https://repo1.maven.org/maven2/io/netty/netty-transport-native-epoll/4.1.68.Final/netty-transport-native-epoll-4.1.68.Final-linux-x86_64.jar ...\n",
      "\t[SUCCESSFUL ] io.netty#netty-transport-native-epoll;4.1.68.Final!netty-transport-native-epoll.jar (82ms)\n",
      "downloading https://repo1.maven.org/maven2/io/netty/netty-transport-native-kqueue/4.1.68.Final/netty-transport-native-kqueue-4.1.68.Final-osx-x86_64.jar ...\n",
      "\t[SUCCESSFUL ] io.netty#netty-transport-native-kqueue;4.1.68.Final!netty-transport-native-kqueue.jar (84ms)\n",
      "downloading https://repo1.maven.org/maven2/io/projectreactor/netty/reactor-netty-http/1.0.11/reactor-netty-http-1.0.11.jar ...\n",
      "\t[SUCCESSFUL ] io.projectreactor.netty#reactor-netty-http;1.0.11!reactor-netty-http.jar (170ms)\n",
      "downloading https://repo1.maven.org/maven2/io/netty/netty-common/4.1.68.Final/netty-common-4.1.68.Final.jar ...\n",
      "\t[SUCCESSFUL ] io.netty#netty-common;4.1.68.Final!netty-common.jar (210ms)\n",
      "downloading https://repo1.maven.org/maven2/io/netty/netty-resolver/4.1.68.Final/netty-resolver-4.1.68.Final.jar ...\n",
      "\t[SUCCESSFUL ] io.netty#netty-resolver;4.1.68.Final!netty-resolver.jar (66ms)\n",
      "downloading https://repo1.maven.org/maven2/io/netty/netty-transport/4.1.68.Final/netty-transport-4.1.68.Final.jar ...\n",
      "\t[SUCCESSFUL ] io.netty#netty-transport;4.1.68.Final!netty-transport.jar (198ms)\n",
      "downloading https://repo1.maven.org/maven2/io/netty/netty-codec/4.1.68.Final/netty-codec-4.1.68.Final.jar ...\n",
      "\t[SUCCESSFUL ] io.netty#netty-codec;4.1.68.Final!netty-codec.jar (127ms)\n",
      "downloading https://repo1.maven.org/maven2/io/netty/netty-codec-socks/4.1.68.Final/netty-codec-socks-4.1.68.Final.jar ...\n",
      "\t[SUCCESSFUL ] io.netty#netty-codec-socks;4.1.68.Final!netty-codec-socks.jar (58ms)\n",
      "downloading https://repo1.maven.org/maven2/io/netty/netty-resolver-dns/4.1.68.Final/netty-resolver-dns-4.1.68.Final.jar ...\n",
      "\t[SUCCESSFUL ] io.netty#netty-resolver-dns;4.1.68.Final!netty-resolver-dns.jar (64ms)\n",
      "downloading https://repo1.maven.org/maven2/io/netty/netty-resolver-dns-native-macos/4.1.68.Final/netty-resolver-dns-native-macos-4.1.68.Final-osx-x86_64.jar ...\n",
      "\t[SUCCESSFUL ] io.netty#netty-resolver-dns-native-macos;4.1.68.Final!netty-resolver-dns-native-macos.jar (42ms)\n",
      "downloading https://repo1.maven.org/maven2/io/projectreactor/netty/reactor-netty-core/1.0.11/reactor-netty-core-1.0.11.jar ...\n",
      "\t[SUCCESSFUL ] io.projectreactor.netty#reactor-netty-core;1.0.11!reactor-netty-core.jar (120ms)\n",
      "downloading https://repo1.maven.org/maven2/io/netty/netty-codec-dns/4.1.68.Final/netty-codec-dns-4.1.68.Final.jar ...\n",
      "\t[SUCCESSFUL ] io.netty#netty-codec-dns;4.1.68.Final!netty-codec-dns.jar (109ms)\n",
      "downloading https://repo1.maven.org/maven2/com/github/vowpalwabbit/vw-jni/8.9.1/vw-jni-8.9.1.jar ...\n",
      "\t[SUCCESSFUL ] com.github.vowpalwabbit#vw-jni;8.9.1!vw-jni.jar (1388ms)\n",
      "downloading https://repo1.maven.org/maven2/com/microsoft/ml/lightgbm/lightgbmlib/3.2.110/lightgbmlib-3.2.110.jar ...\n",
      "\t[SUCCESSFUL ] com.microsoft.ml.lightgbm#lightgbmlib;3.2.110!lightgbmlib.jar (1164ms)\n",
      ":: resolution report :: resolve 32065ms :: artifacts dl 1138319ms\n",
      "\t:: modules in use:\n",
      "\tcom.azure#azure-ai-textanalytics;5.1.4 from central in [default]\n",
      "\tcom.azure#azure-core;1.22.0 from central in [default]\n",
      "\tcom.azure#azure-core-http-netty;1.11.2 from central in [default]\n",
      "\tcom.azure#azure-storage-blob;12.14.2 from central in [default]\n",
      "\tcom.azure#azure-storage-common;12.14.1 from central in [default]\n",
      "\tcom.azure#azure-storage-internal-avro;12.1.2 from central in [default]\n",
      "\tcom.beust#jcommander;1.27 from central in [default]\n",
      "\tcom.chuusai#shapeless_2.12;2.3.2 from central in [default]\n",
      "\tcom.fasterxml.jackson.core#jackson-annotations;2.12.5 from central in [default]\n",
      "\tcom.fasterxml.jackson.core#jackson-core;2.12.5 from central in [default]\n",
      "\tcom.fasterxml.jackson.core#jackson-databind;2.12.5 from central in [default]\n",
      "\tcom.fasterxml.jackson.dataformat#jackson-dataformat-xml;2.12.5 from central in [default]\n",
      "\tcom.fasterxml.jackson.datatype#jackson-datatype-jsr310;2.12.5 from central in [default]\n",
      "\tcom.fasterxml.jackson.module#jackson-module-jaxb-annotations;2.12.5 from central in [default]\n",
      "\tcom.fasterxml.woodstox#woodstox-core;6.2.4 from central in [default]\n",
      "\tcom.github.vowpalwabbit#vw-jni;8.9.1 from central in [default]\n",
      "\tcom.jcraft#jsch;0.1.54 from central in [default]\n",
      "\tcom.linkedin.isolation-forest#isolation-forest_3.2.0_2.12;2.0.8 from central in [default]\n",
      "\tcom.microsoft.azure#synapseml-cognitive_2.12;0.9.5 from central in [default]\n",
      "\tcom.microsoft.azure#synapseml-core_2.12;0.9.5 from central in [default]\n",
      "\tcom.microsoft.azure#synapseml-deep-learning_2.12;0.9.5 from central in [default]\n",
      "\tcom.microsoft.azure#synapseml-lightgbm_2.12;0.9.5 from central in [default]\n",
      "\tcom.microsoft.azure#synapseml-opencv_2.12;0.9.5 from central in [default]\n",
      "\tcom.microsoft.azure#synapseml-vw_2.12;0.9.5 from central in [default]\n",
      "\tcom.microsoft.azure#synapseml_2.12;0.9.5 from central in [default]\n",
      "\tcom.microsoft.cntk#cntk;2.4 from central in [default]\n",
      "\tcom.microsoft.cognitiveservices.speech#client-jar-sdk;1.14.0 from central in [default]\n",
      "\tcom.microsoft.ml.lightgbm#lightgbmlib;3.2.110 from central in [default]\n",
      "\tcom.microsoft.onnxruntime#onnxruntime_gpu;1.8.1 from central in [default]\n",
      "\tcommons-codec#commons-codec;1.10 from central in [default]\n",
      "\tcommons-logging#commons-logging;1.2 from central in [default]\n",
      "\tio.netty#netty-buffer;4.1.68.Final from central in [default]\n",
      "\tio.netty#netty-codec;4.1.68.Final from central in [default]\n",
      "\tio.netty#netty-codec-dns;4.1.68.Final from central in [default]\n",
      "\tio.netty#netty-codec-http;4.1.68.Final from central in [default]\n",
      "\tio.netty#netty-codec-http2;4.1.68.Final from central in [default]\n",
      "\tio.netty#netty-codec-socks;4.1.68.Final from central in [default]\n",
      "\tio.netty#netty-common;4.1.68.Final from central in [default]\n",
      "\tio.netty#netty-handler;4.1.68.Final from central in [default]\n",
      "\tio.netty#netty-handler-proxy;4.1.68.Final from central in [default]\n",
      "\tio.netty#netty-resolver;4.1.68.Final from central in [default]\n",
      "\tio.netty#netty-resolver-dns;4.1.68.Final from central in [default]\n",
      "\tio.netty#netty-resolver-dns-native-macos;4.1.68.Final from central in [default]\n",
      "\tio.netty#netty-tcnative-boringssl-static;2.0.43.Final from central in [default]\n",
      "\tio.netty#netty-transport;4.1.68.Final from central in [default]\n",
      "\tio.netty#netty-transport-native-epoll;4.1.68.Final from central in [default]\n",
      "\tio.netty#netty-transport-native-kqueue;4.1.68.Final from central in [default]\n",
      "\tio.netty#netty-transport-native-unix-common;4.1.68.Final from central in [default]\n",
      "\tio.projectreactor#reactor-core;3.4.10 from central in [default]\n",
      "\tio.projectreactor.netty#reactor-netty-core;1.0.11 from central in [default]\n",
      "\tio.projectreactor.netty#reactor-netty-http;1.0.11 from central in [default]\n",
      "\tio.spray#spray-json_2.12;1.3.2 from central in [default]\n",
      "\tjakarta.activation#jakarta.activation-api;1.2.1 from central in [default]\n",
      "\tjakarta.xml.bind#jakarta.xml.bind-api;2.3.2 from central in [default]\n",
      "\torg.apache.httpcomponents#httpclient;4.5.6 from central in [default]\n",
      "\torg.apache.httpcomponents#httpcore;4.4.10 from central in [default]\n",
      "\torg.apache.httpcomponents#httpmime;4.5.6 from central in [default]\n",
      "\torg.apache.spark#spark-avro_2.12;3.2.0 from central in [default]\n",
      "\torg.beanshell#bsh;2.0b4 from central in [default]\n",
      "\torg.codehaus.woodstox#stax2-api;4.2.1 from central in [default]\n",
      "\torg.openpnp#opencv;3.2.0-1 from central in [default]\n",
      "\torg.reactivestreams#reactive-streams;1.0.3 from central in [default]\n",
      "\torg.scala-lang#scala-reflect;2.12.4 from central in [default]\n",
      "\torg.scalactic#scalactic_2.12;3.0.5 from central in [default]\n",
      "\torg.slf4j#slf4j-api;1.7.32 from central in [default]\n",
      "\torg.spark-project.spark#unused;1.0.0 from central in [default]\n",
      "\torg.testng#testng;6.8.8 from central in [default]\n",
      "\torg.tukaani#xz;1.8 from central in [default]\n",
      "\torg.typelevel#macro-compat_2.12;1.1.1 from central in [default]\n",
      "\t---------------------------------------------------------------------\n",
      "\t|                  |            modules            ||   artifacts   |\n",
      "\t|       conf       | number| search|dwnlded|evicted|| number|dwnlded|\n",
      "\t---------------------------------------------------------------------\n",
      "\t|      default     |   69  |   69  |   69  |   0   ||   69  |   69  |\n",
      "\t---------------------------------------------------------------------\n",
      ":: retrieving :: org.apache.spark#spark-submit-parent-b3f02de1-faf3-4fca-af30-c617ae545e50\n",
      "\tconfs: [default]\n",
      "\t69 artifacts copied, 0 already retrieved (429807kB/501ms)\n"
     ]
    },
    {
     "name": "stdout",
     "output_type": "stream",
     "text": [
      "23/05/15 13:08:40 WARN NativeCodeLoader: Unable to load native-hadoop library for your platform... using builtin-java classes where applicable\n"
     ]
    },
    {
     "name": "stderr",
     "output_type": "stream",
     "text": [
      "Setting default log level to \"WARN\".\n",
      "To adjust logging level use sc.setLogLevel(newLevel). For SparkR, use setLogLevel(newLevel).\n"
     ]
    }
   ],
   "source": [
    "import findspark\n",
    "from pyspark.sql import SparkSession\n",
    "\n",
    "findspark.init()\n",
    "spark = SparkSession.builder \\\n",
    "    .master(\"local[8]\") \\\n",
    "    .appName(\"Big Data Analytics\") \\\n",
    "    .config(\"spark.jars.packages\", \"com.microsoft.azure:synapseml_2.12:0.9.5\") \\\n",
    "    .config(\"spark.executor.memory\", \"4g\") \\\n",
    "    .getOrCreate()"
   ]
  },
  {
   "cell_type": "code",
   "execution_count": 4,
   "metadata": {},
   "outputs": [
    {
     "data": {
      "text/html": [
       "\n",
       "            <div>\n",
       "                <p><b>SparkSession - in-memory</b></p>\n",
       "                \n",
       "        <div>\n",
       "            <p><b>SparkContext</b></p>\n",
       "\n",
       "            <p><a href=\"http://192.168.1.35:4040\">Spark UI</a></p>\n",
       "\n",
       "            <dl>\n",
       "              <dt>Version</dt>\n",
       "                <dd><code>v3.3.2</code></dd>\n",
       "              <dt>Master</dt>\n",
       "                <dd><code>local[8]</code></dd>\n",
       "              <dt>AppName</dt>\n",
       "                <dd><code>Big Data Analytics</code></dd>\n",
       "            </dl>\n",
       "        </div>\n",
       "        \n",
       "            </div>\n",
       "        "
      ],
      "text/plain": [
       "<pyspark.sql.session.SparkSession at 0x7fc0b415e6b0>"
      ]
     },
     "execution_count": 4,
     "metadata": {},
     "output_type": "execute_result"
    }
   ],
   "source": [
    "spark"
   ]
  },
  {
   "attachments": {},
   "cell_type": "markdown",
   "metadata": {},
   "source": [
    "Mediante el enlace superior accedemos a la interfaz de la applicación generada\n",
    "\n",
    "---"
   ]
  },
  {
   "attachments": {},
   "cell_type": "markdown",
   "metadata": {},
   "source": [
    "# Lectura de datos"
   ]
  },
  {
   "cell_type": "code",
   "execution_count": 2,
   "metadata": {},
   "outputs": [
    {
     "name": "stderr",
     "output_type": "stream",
     "text": [
      "                                                                                \r"
     ]
    },
    {
     "name": "stdout",
     "output_type": "stream",
     "text": [
      "+------------------+-------------------+-------------------+------------------+-------------------+-------------------+------------------+-------------------+-------------------+-------------------+-------------------+------------------+------------------+-------------------+------------------+-------------------+------------------+--------------------+----+\n",
      "|               _c0|                _c1|                _c2|               _c3|                _c4|                _c5|               _c6|                _c7|                _c8|                _c9|               _c10|              _c11|              _c12|               _c13|              _c14|               _c15|              _c16|                _c17|_c18|\n",
      "+------------------+-------------------+-------------------+------------------+-------------------+-------------------+------------------+-------------------+-------------------+-------------------+-------------------+------------------+------------------+-------------------+------------------+-------------------+------------------+--------------------+----+\n",
      "|0.3447302281856537|  1.988443374633789|-0.1371908187866211| 0.450578898191452| 0.6159892678260803| -0.594514787197113|3.9486684799194336|-0.6341022253036499|0.49690425395965576| 3.6914689540863037|0.42952021956443787|0.5806001424789429| 1.199526309967041| 0.2097606360912323|0.5126517415046692| 1.2701802253723145|1.4132916927337646| 0.39445599913597107| 1.0|\n",
      "|1.4473997354507446|0.07448625564575195|-1.6153346300125122|0.6592102646827698|-0.9030203819274902| 0.3475034832954407|0.9209998250007629|0.23809637129306793|0.28805625438690186|-0.5541765689849854| 1.0818740129470825| 1.294500708580017|1.0617979764938354|0.29921188950538635|1.0716438293457031| 0.8750506639480591|0.6969258785247803| 0.46536800265312195| 1.0|\n",
      "|1.5347074270248413| 0.3253762125968933| 0.7922019958496094|2.1536874771118164|-0.8698042035102844|-0.9330736398696899|0.5559149384498596|0.13762007653713226| 0.7770273089408875| 0.5623093843460083| 1.8698067665100098|0.9750878810882568|0.4627673029899597|                0.0|1.8775650262832642|0.48505842685699463|1.2206615209579468|0.004019239917397499| 1.0|\n",
      "+------------------+-------------------+-------------------+------------------+-------------------+-------------------+------------------+-------------------+-------------------+-------------------+-------------------+------------------+------------------+-------------------+------------------+-------------------+------------------+--------------------+----+\n",
      "only showing top 3 rows\n",
      "\n"
     ]
    },
    {
     "name": "stderr",
     "output_type": "stream",
     "text": [
      "[Stage 4:====================================>                      (5 + 3) / 8]\r"
     ]
    },
    {
     "name": "stdout",
     "output_type": "stream",
     "text": [
      "+------------------+-------------------+-------------------+------------------+--------------------+--------------------+-------------------+--------------------+-------------------+-------------------+------------------+------------------+------------------+-------------------+------------------+-------------------+------------------+-------------------+----+\n",
      "|               _c0|                _c1|                _c2|               _c3|                 _c4|                 _c5|                _c6|                 _c7|                _c8|                _c9|              _c10|              _c11|              _c12|               _c13|              _c14|               _c15|              _c16|               _c17|_c18|\n",
      "+------------------+-------------------+-------------------+------------------+--------------------+--------------------+-------------------+--------------------+-------------------+-------------------+------------------+------------------+------------------+-------------------+------------------+-------------------+------------------+-------------------+----+\n",
      "|0.4978126883506775| 1.2302088737487793| 1.4484965801239014|0.5895350575447083|-0.04188283532857895|-0.35700902342796326|0.38642486929893494| 0.33622148633003235|0.17709659039974213|0.05306046083569527|0.5735112428665161|0.4832570552825928|0.7477442026138306|0.34201160073280334|0.5874246954917908|0.42510807514190674|1.3090754747390747|0.11307600140571594| 0.0|\n",
      "|2.5546205043792725|0.05898343026638031| 1.6798444986343384|1.6360905170440674| -1.0904293060302734|  0.2804514765739441| 2.3860647678375244|-0.04516410827636719|    2.0273597240448|-1.9659522771835327|2.2258381843566895| 2.824251651763916|1.1259653568267822|   1.96031653881073|2.3261191844940186| 2.4859654903411865|1.2445698976516724|0.40529999136924744| 1.0|\n",
      "|0.8766460418701172|-0.9373540282249451|-1.4234033823013306|0.8708824515342712| -1.7465623617172241| 0.16496558487415314| 0.5629522204399109|  1.1051654815673828| 0.8450607061386108| 0.0502282977104187|0.8176358342170715|0.7510875463485718|0.8151650428771973| 0.7796471118927002|0.8267000317573547| 0.7095591425895691|1.0380576848983765|0.11783500015735626| 1.0|\n",
      "+------------------+-------------------+-------------------+------------------+--------------------+--------------------+-------------------+--------------------+-------------------+-------------------+------------------+------------------+------------------+-------------------+------------------+-------------------+------------------+-------------------+----+\n",
      "only showing top 3 rows\n",
      "\n"
     ]
    },
    {
     "name": "stderr",
     "output_type": "stream",
     "text": [
      "                                                                                \r"
     ]
    }
   ],
   "source": [
    "# Leemos el conjunto de entrenamiento\n",
    "dfTra = spark.read \\\n",
    "    .format(\"csv\") \\\n",
    "    .option(\"inferSchema\",True) \\\n",
    "    .option(\"header\", False) \\\n",
    "    .load(\"susyMaster-Train.data\")\n",
    "dfTra.show(3)\n",
    "\n",
    "# Leemos el conjunto de test \n",
    "dfTst = spark.read \\\n",
    "    .format(\"csv\") \\\n",
    "    .option(\"inferSchema\",True) \\\n",
    "    .option(\"header\", False) \\\n",
    "    .load(\"susyMaster-Test.data\")\n",
    "dfTst.show(3)"
   ]
  },
  {
   "attachments": {},
   "cell_type": "markdown",
   "metadata": {},
   "source": [
    "Una vez tenemos nuestros datos, vamos a ver como trabajar con ellos."
   ]
  },
  {
   "cell_type": "code",
   "execution_count": 7,
   "metadata": {},
   "outputs": [
    {
     "name": "stderr",
     "output_type": "stream",
     "text": [
      "                                                                                \r"
     ]
    },
    {
     "name": "stdout",
     "output_type": "stream",
     "text": [
      "TRAIN:  19 variables y 1000000 instancias.\n",
      "Esquema de dfTra:\n",
      "root\n",
      " |-- _c0: double (nullable = true)\n",
      " |-- _c1: double (nullable = true)\n",
      " |-- _c2: double (nullable = true)\n",
      " |-- _c3: double (nullable = true)\n",
      " |-- _c4: double (nullable = true)\n",
      " |-- _c5: double (nullable = true)\n",
      " |-- _c6: double (nullable = true)\n",
      " |-- _c7: double (nullable = true)\n",
      " |-- _c8: double (nullable = true)\n",
      " |-- _c9: double (nullable = true)\n",
      " |-- _c10: double (nullable = true)\n",
      " |-- _c11: double (nullable = true)\n",
      " |-- _c12: double (nullable = true)\n",
      " |-- _c13: double (nullable = true)\n",
      " |-- _c14: double (nullable = true)\n",
      " |-- _c15: double (nullable = true)\n",
      " |-- _c16: double (nullable = true)\n",
      " |-- _c17: double (nullable = true)\n",
      " |-- _c18: double (nullable = true)\n",
      "\n",
      "Resumen estadístico dfTra:\n"
     ]
    },
    {
     "name": "stderr",
     "output_type": "stream",
     "text": [
      "                                                                                \r"
     ]
    },
    {
     "name": "stdout",
     "output_type": "stream",
     "text": [
      "+-------+-------------------+--------------------+--------------------+------------------+--------------------+--------------------+--------------------+--------------------+--------------------+-------------------+------------------+--------------------+--------------------+------------------+--------------------+--------------------+-------------------+--------------------+-------------------+\n",
      "|summary|                _c0|                 _c1|                 _c2|               _c3|                 _c4|                 _c5|                 _c6|                 _c7|                 _c8|                _c9|              _c10|                _c11|                _c12|              _c13|                _c14|                _c15|               _c16|                _c17|               _c18|\n",
      "+-------+-------------------+--------------------+--------------------+------------------+--------------------+--------------------+--------------------+--------------------+--------------------+-------------------+------------------+--------------------+--------------------+------------------+--------------------+--------------------+-------------------+--------------------+-------------------+\n",
      "|  count|            1000000|             1000000|             1000000|           1000000|             1000000|             1000000|             1000000|             1000000|             1000000|            1000000|           1000000|             1000000|             1000000|           1000000|             1000000|             1000000|            1000000|             1000000|            1000000|\n",
      "|   mean|  1.236635743632108|-9.92182275993092...|-5.97084232688987...|1.1130236375309228|-3.46540066472261...|6.710697601874803E-4|  1.3400710312124031|-0.00102190924557...|  1.2259560265280744|0.06889122515156185|1.1490681244925856|  1.2193500361376046|  1.0465084275891683| 1.059756638342128|  1.1423351038568281|  1.1512317313764855|  1.012740180638274|  0.2715182669393291|                0.9|\n",
      "| stddev| 0.7909204219196112|  0.8915019721696861|  1.0011534138563305|0.7287628543681426|  0.9120933695464056|  1.0017832223865155|   1.068355079660454|   1.001041009124819|  1.0807900621852218|  1.318276577053306|0.6606788670129351|  0.6773221329283439| 0.48617769250635845|0.9618735996707972|  0.6486774191625193|  0.6923020514452407|0.43022538591659876| 0.21640954171297377|0.30000015000011143|\n",
      "|    min|0.25542131066322327| -2.1028683185577393| -1.7347829341888428|0.4285881221294403| -2.0593061447143555| -1.7342021465301514|9.426852338947356E-4|  -1.727111577987671|7.693475367887004E-8|-15.335088729858398|0.2680642902851105|0.001041228300891...|0.002048078458756...|               0.0|0.052307624369859695|0.004464138299226761|8.22400670585921E-6|3.520310087878897...|                0.0|\n",
      "|    max|  16.89348030090332|  2.1015965938568115|  1.7348390817642212|17.734739303588867|  2.0597124099731445|  1.7346751689910889|  21.001035690307617|  1.7406834363937378|  23.386438369750977|  16.93211555480957|  14.9383544921875|  14.363262176513672|   5.819144248962402| 20.68624496459961|  14.897899627685547|  15.613704681396484| 1.5916599035263062|                 1.0|                1.0|\n",
      "+-------+-------------------+--------------------+--------------------+------------------+--------------------+--------------------+--------------------+--------------------+--------------------+-------------------+------------------+--------------------+--------------------+------------------+--------------------+--------------------+-------------------+--------------------+-------------------+\n",
      "\n",
      "\n",
      "TEST:  19 variables y 1000000 instancias.\n",
      "Esquema de dfTst:\n",
      "root\n",
      " |-- _c0: double (nullable = true)\n",
      " |-- _c1: double (nullable = true)\n",
      " |-- _c2: double (nullable = true)\n",
      " |-- _c3: double (nullable = true)\n",
      " |-- _c4: double (nullable = true)\n",
      " |-- _c5: double (nullable = true)\n",
      " |-- _c6: double (nullable = true)\n",
      " |-- _c7: double (nullable = true)\n",
      " |-- _c8: double (nullable = true)\n",
      " |-- _c9: double (nullable = true)\n",
      " |-- _c10: double (nullable = true)\n",
      " |-- _c11: double (nullable = true)\n",
      " |-- _c12: double (nullable = true)\n",
      " |-- _c13: double (nullable = true)\n",
      " |-- _c14: double (nullable = true)\n",
      " |-- _c15: double (nullable = true)\n",
      " |-- _c16: double (nullable = true)\n",
      " |-- _c17: double (nullable = true)\n",
      " |-- _c18: double (nullable = true)\n",
      "\n",
      "Resumen estadístico dfTst:\n"
     ]
    },
    {
     "name": "stderr",
     "output_type": "stream",
     "text": [
      "[Stage 27:==================================================>       (7 + 1) / 8]\r"
     ]
    },
    {
     "name": "stdout",
     "output_type": "stream",
     "text": [
      "+-------+-------------------+--------------------+--------------------+------------------+-------------------+--------------------+--------------------+--------------------+--------------------+-------------------+------------------+--------------------+--------------------+------------------+--------------------+--------------------+-------------------+--------------------+------------------+\n",
      "|summary|                _c0|                 _c1|                 _c2|               _c3|                _c4|                 _c5|                 _c6|                 _c7|                 _c8|                _c9|              _c10|                _c11|                _c12|              _c13|                _c14|                _c15|               _c16|                _c17|              _c18|\n",
      "+-------+-------------------+--------------------+--------------------+------------------+-------------------+--------------------+--------------------+--------------------+--------------------+-------------------+------------------+--------------------+--------------------+------------------+--------------------+--------------------+-------------------+--------------------+------------------+\n",
      "|  count|            1000000|             1000000|             1000000|           1000000|            1000000|             1000000|             1000000|             1000000|             1000000|            1000000|           1000000|             1000000|             1000000|           1000000|             1000000|             1000000|            1000000|             1000000|           1000000|\n",
      "|   mean|   1.23611927390939|-4.19907573753579...|-0.00110182481150...|1.1116225361278356|7.25572766968877E-5|0.001982093243553...|  1.3397262485175945|-0.00166274823111...|   1.224565686433621|0.06771079437619543|1.1485809198812247|  1.2190855840342794|  1.0471611662373752|1.0623655940777081|   1.141911181662064|  1.1521513963328056| 1.0116823181885652|  0.2721696489386805|               0.9|\n",
      "| stddev| 0.7930031269557961|  0.8919117989533544|  1.0017486758720078|0.7303238109809418| 0.9118468565960398|  1.0015926071408874|  1.0696897029415346|   1.001626972817179|   1.080979194805973| 1.3201026936704507|0.6626953591827721|  0.6781706306444963| 0.48714444556737874|0.9622286627838408|  0.6508572501293801|  0.6915916285076964| 0.4304070378599562| 0.21683180740100214|0.3000001500001127|\n",
      "|    min|0.25517433881759644| -2.1028683185577393| -1.7347885370254517|0.4285881221294403|-2.0592896938323975| -1.7341965436935425|7.199480314739048E-4| -1.7271170616149902|9.238941629519104E-7|-13.102581977844238|0.2696107029914856|0.005036245100200176|0.004528082441538572|               0.0|0.057840388268232346|0.004497512243688...|2.57416922977427E-6|5.895349772799818E-7|               0.0|\n",
      "|    max| 15.651212692260742|  2.1015210151672363|  1.7348390817642212| 18.18524742126465|  2.059720754623413|   1.734686255455017|  21.001035690307617|  1.7406890392303467|  22.562484741210938|  17.69194221496582| 15.73327922821045|   14.99273681640625|  6.0358476638793945| 14.57379150390625|  15.786237716674805|  11.336281776428223| 1.5916599035263062|                 1.0|               1.0|\n",
      "+-------+-------------------+--------------------+--------------------+------------------+-------------------+--------------------+--------------------+--------------------+--------------------+-------------------+------------------+--------------------+--------------------+------------------+--------------------+--------------------+-------------------+--------------------+------------------+\n",
      "\n"
     ]
    },
    {
     "name": "stderr",
     "output_type": "stream",
     "text": [
      "                                                                                \r"
     ]
    }
   ],
   "source": [
    "# Mostramos el tamaño del fichero de entrenamiento\n",
    "print (\"TRAIN: \", len(dfTra.columns), \"variables y\" , dfTra.count(), \"instancias.\")\n",
    "# Mostramos el esquema y un resumen estadístico del fichero de entrenamiento\n",
    "print (\"Esquema de dfTra:\")\n",
    "dfTra.printSchema()\n",
    "print (\"Resumen estadístico dfTra:\")\n",
    "dfTra.describe().show()\n",
    "\n",
    "# Mostramos el tamaño del fichero de test\n",
    "print (\"\\nTEST: \", len(dfTst.columns), \"variables y\" , dfTst.count(), \"instancias.\")\n",
    "# Mostramos el esquema y un resumen estadístico del fichero de test\n",
    "print (\"Esquema de dfTst:\")\n",
    "dfTst.printSchema()\n",
    "print (\"Resumen estadístico dfTst:\")\n",
    "dfTst.describe().show()"
   ]
  },
  {
   "attachments": {},
   "cell_type": "markdown",
   "metadata": {},
   "source": [
    "En los resultados anteriores podemos ver los siguientes aspectos:\n",
    "\n",
    "* Tanto el conjunto de entrenamiento como el de test tienen 1M instancias.\n",
    "* Ninguno de los dos conjuntos de datos presentan valores perdidos.\n",
    "\n",
    "A continuación comprobamos la normalidad de los datos mediante el test de Kolmogórov-Smirnov."
   ]
  },
  {
   "cell_type": "code",
   "execution_count": null,
   "metadata": {},
   "outputs": [
    {
     "name": "stderr",
     "output_type": "stream",
     "text": [
      "                                                                                \r"
     ]
    },
    {
     "name": "stdout",
     "output_type": "stream",
     "text": [
      "Media: 1.236635743632108, stddev: 0.7909204219196112\n"
     ]
    },
    {
     "name": "stderr",
     "output_type": "stream",
     "text": [
      "                                                                                \r"
     ]
    },
    {
     "name": "stdout",
     "output_type": "stream",
     "text": [
      "Resultado para la columna _c0: 0.0\n"
     ]
    },
    {
     "name": "stderr",
     "output_type": "stream",
     "text": [
      "                                                                                \r"
     ]
    },
    {
     "name": "stdout",
     "output_type": "stream",
     "text": [
      "Media: -0.0009921822759930922, stddev: 0.8915019721696861\n"
     ]
    },
    {
     "name": "stderr",
     "output_type": "stream",
     "text": [
      "                                                                                \r"
     ]
    },
    {
     "name": "stdout",
     "output_type": "stream",
     "text": [
      "Resultado para la columna _c1: 0.0\n"
     ]
    },
    {
     "name": "stderr",
     "output_type": "stream",
     "text": [
      "                                                                                \r"
     ]
    },
    {
     "name": "stdout",
     "output_type": "stream",
     "text": [
      "Media: -5.970842326889874e-05, stddev: 1.0011534138563305\n"
     ]
    },
    {
     "name": "stderr",
     "output_type": "stream",
     "text": [
      "                                                                                \r"
     ]
    },
    {
     "name": "stdout",
     "output_type": "stream",
     "text": [
      "Resultado para la columna _c2: 0.0\n"
     ]
    },
    {
     "name": "stderr",
     "output_type": "stream",
     "text": [
      "                                                                                \r"
     ]
    },
    {
     "name": "stdout",
     "output_type": "stream",
     "text": [
      "Media: 1.1130236375309228, stddev: 0.7287628543681426\n"
     ]
    },
    {
     "name": "stderr",
     "output_type": "stream",
     "text": [
      "                                                                                \r"
     ]
    },
    {
     "name": "stdout",
     "output_type": "stream",
     "text": [
      "Resultado para la columna _c3: 0.0\n"
     ]
    },
    {
     "name": "stderr",
     "output_type": "stream",
     "text": [
      "                                                                                \r"
     ]
    },
    {
     "name": "stdout",
     "output_type": "stream",
     "text": [
      "Media: -0.00034654006647226183, stddev: 0.9120933695464056\n"
     ]
    },
    {
     "name": "stderr",
     "output_type": "stream",
     "text": [
      "                                                                                \r"
     ]
    },
    {
     "name": "stdout",
     "output_type": "stream",
     "text": [
      "Resultado para la columna _c4: 0.0\n"
     ]
    },
    {
     "name": "stderr",
     "output_type": "stream",
     "text": [
      "                                                                                \r"
     ]
    },
    {
     "name": "stdout",
     "output_type": "stream",
     "text": [
      "Media: 0.0006710697601874803, stddev: 1.0017832223865155\n"
     ]
    },
    {
     "name": "stderr",
     "output_type": "stream",
     "text": [
      "                                                                                \r"
     ]
    },
    {
     "name": "stdout",
     "output_type": "stream",
     "text": [
      "Resultado para la columna _c5: 0.0\n"
     ]
    },
    {
     "name": "stderr",
     "output_type": "stream",
     "text": [
      "                                                                                \r"
     ]
    },
    {
     "name": "stdout",
     "output_type": "stream",
     "text": [
      "Media: 1.3400710312124031, stddev: 1.068355079660454\n"
     ]
    },
    {
     "name": "stderr",
     "output_type": "stream",
     "text": [
      "                                                                                \r"
     ]
    },
    {
     "name": "stdout",
     "output_type": "stream",
     "text": [
      "Resultado para la columna _c6: 0.0\n"
     ]
    },
    {
     "name": "stderr",
     "output_type": "stream",
     "text": [
      "                                                                                \r"
     ]
    },
    {
     "name": "stdout",
     "output_type": "stream",
     "text": [
      "Media: -0.0010219092455741531, stddev: 1.001041009124819\n"
     ]
    },
    {
     "name": "stderr",
     "output_type": "stream",
     "text": [
      "                                                                                \r"
     ]
    },
    {
     "name": "stdout",
     "output_type": "stream",
     "text": [
      "Resultado para la columna _c7: 0.0\n"
     ]
    },
    {
     "name": "stderr",
     "output_type": "stream",
     "text": [
      "                                                                                \r"
     ]
    },
    {
     "name": "stdout",
     "output_type": "stream",
     "text": [
      "Media: 1.2259560265280744, stddev: 1.0807900621852218\n"
     ]
    },
    {
     "name": "stderr",
     "output_type": "stream",
     "text": [
      "                                                                                \r"
     ]
    },
    {
     "name": "stdout",
     "output_type": "stream",
     "text": [
      "Resultado para la columna _c8: 0.0\n"
     ]
    },
    {
     "name": "stderr",
     "output_type": "stream",
     "text": [
      "                                                                                \r"
     ]
    },
    {
     "name": "stdout",
     "output_type": "stream",
     "text": [
      "Media: 0.06889122515156185, stddev: 1.318276577053306\n"
     ]
    },
    {
     "name": "stderr",
     "output_type": "stream",
     "text": [
      "                                                                                \r"
     ]
    },
    {
     "name": "stdout",
     "output_type": "stream",
     "text": [
      "Resultado para la columna _c9: 0.0\n"
     ]
    },
    {
     "name": "stderr",
     "output_type": "stream",
     "text": [
      "                                                                                \r"
     ]
    },
    {
     "name": "stdout",
     "output_type": "stream",
     "text": [
      "Media: 1.1490681244925856, stddev: 0.6606788670129351\n"
     ]
    },
    {
     "name": "stderr",
     "output_type": "stream",
     "text": [
      "                                                                                \r"
     ]
    },
    {
     "name": "stdout",
     "output_type": "stream",
     "text": [
      "Resultado para la columna _c10: 0.0\n"
     ]
    },
    {
     "name": "stderr",
     "output_type": "stream",
     "text": [
      "                                                                                \r"
     ]
    },
    {
     "name": "stdout",
     "output_type": "stream",
     "text": [
      "Media: 1.2193500361376046, stddev: 0.6773221329283439\n"
     ]
    },
    {
     "name": "stderr",
     "output_type": "stream",
     "text": [
      "                                                                                \r"
     ]
    },
    {
     "name": "stdout",
     "output_type": "stream",
     "text": [
      "Resultado para la columna _c11: 0.0\n"
     ]
    },
    {
     "name": "stderr",
     "output_type": "stream",
     "text": [
      "                                                                                \r"
     ]
    },
    {
     "name": "stdout",
     "output_type": "stream",
     "text": [
      "Media: 1.0465084275891683, stddev: 0.48617769250635845\n"
     ]
    },
    {
     "name": "stderr",
     "output_type": "stream",
     "text": [
      "                                                                                \r"
     ]
    },
    {
     "name": "stdout",
     "output_type": "stream",
     "text": [
      "Resultado para la columna _c12: 0.0\n"
     ]
    },
    {
     "name": "stderr",
     "output_type": "stream",
     "text": [
      "                                                                                \r"
     ]
    },
    {
     "name": "stdout",
     "output_type": "stream",
     "text": [
      "Media: 1.059756638342128, stddev: 0.9618735996707972\n"
     ]
    },
    {
     "name": "stderr",
     "output_type": "stream",
     "text": [
      "                                                                                \r"
     ]
    },
    {
     "name": "stdout",
     "output_type": "stream",
     "text": [
      "Resultado para la columna _c13: 0.0\n"
     ]
    },
    {
     "name": "stderr",
     "output_type": "stream",
     "text": [
      "                                                                                \r"
     ]
    },
    {
     "name": "stdout",
     "output_type": "stream",
     "text": [
      "Media: 1.1423351038568281, stddev: 0.6486774191625193\n"
     ]
    },
    {
     "name": "stderr",
     "output_type": "stream",
     "text": [
      "                                                                                \r"
     ]
    },
    {
     "name": "stdout",
     "output_type": "stream",
     "text": [
      "Resultado para la columna _c14: 0.0\n"
     ]
    },
    {
     "name": "stderr",
     "output_type": "stream",
     "text": [
      "                                                                                \r"
     ]
    },
    {
     "name": "stdout",
     "output_type": "stream",
     "text": [
      "Media: 1.1512317313764855, stddev: 0.6923020514452407\n"
     ]
    },
    {
     "name": "stderr",
     "output_type": "stream",
     "text": [
      "                                                                                \r"
     ]
    },
    {
     "name": "stdout",
     "output_type": "stream",
     "text": [
      "Resultado para la columna _c15: 0.0\n"
     ]
    },
    {
     "name": "stderr",
     "output_type": "stream",
     "text": [
      "                                                                                \r"
     ]
    },
    {
     "name": "stdout",
     "output_type": "stream",
     "text": [
      "Media: 1.012740180638274, stddev: 0.43022538591659876\n"
     ]
    },
    {
     "name": "stderr",
     "output_type": "stream",
     "text": [
      "                                                                                \r"
     ]
    },
    {
     "name": "stdout",
     "output_type": "stream",
     "text": [
      "Resultado para la columna _c16: 0.0\n"
     ]
    },
    {
     "name": "stderr",
     "output_type": "stream",
     "text": [
      "                                                                                \r"
     ]
    },
    {
     "name": "stdout",
     "output_type": "stream",
     "text": [
      "Media: 0.2715182669393291, stddev: 0.21640954171297377\n"
     ]
    },
    {
     "name": "stderr",
     "output_type": "stream",
     "text": [
      "                                                                                \r"
     ]
    },
    {
     "name": "stdout",
     "output_type": "stream",
     "text": [
      "Resultado para la columna _c17: 0.0\n"
     ]
    },
    {
     "name": "stderr",
     "output_type": "stream",
     "text": [
      "                                                                                \r"
     ]
    },
    {
     "name": "stdout",
     "output_type": "stream",
     "text": [
      "Media: 0.9, stddev: 0.30000015000011143\n"
     ]
    },
    {
     "name": "stderr",
     "output_type": "stream",
     "text": [
      "[Stage 156:============================>                            (1 + 1) / 2]\r"
     ]
    },
    {
     "name": "stdout",
     "output_type": "stream",
     "text": [
      "Resultado para la columna _c18: 0.0\n"
     ]
    },
    {
     "name": "stderr",
     "output_type": "stream",
     "text": [
      "                                                                                \r"
     ]
    }
   ],
   "source": [
    "from pyspark.ml.stat import KolmogorovSmirnovTest\n",
    "from pyspark.sql.functions import mean, stddev, col\n",
    "\n",
    "# Comprobamos la normalidad para todas las columnas menos la última (clase)\n",
    "for columna in dfTra.columns:\n",
    "    stats = dfTra.select(mean(col(columna)).alias('mean'),\n",
    "                    stddev(col(columna)).alias('std')\n",
    "                    ).collect()\n",
    "    media = stats[0]['mean']\n",
    "    std = stats[0]['std']\n",
    "    print(f\"Media: {media}, stddev: {std}\")\n",
    "    ksResult = KolmogorovSmirnovTest.test(dfTra, columna, 'norm', media, std).first()\n",
    "    print(f\"Resultado para la columna {columna}: {round(ksResult.pValue, 3)}\")"
   ]
  },
  {
   "attachments": {},
   "cell_type": "markdown",
   "metadata": {},
   "source": [
    "Ninguna de las columnas tiene los valores normalizados, así que tendremos que añadirlo a los pasos del pipeline.\n",
    "\n",
    "Por último, mostramos la distribución de la variable de salida (columna clase)."
   ]
  },
  {
   "cell_type": "code",
   "execution_count": null,
   "metadata": {},
   "outputs": [
    {
     "name": "stderr",
     "output_type": "stream",
     "text": [
      "                                                                                \r"
     ]
    },
    {
     "name": "stdout",
     "output_type": "stream",
     "text": [
      "+----+------+\n",
      "|_c18| count|\n",
      "+----+------+\n",
      "| 0.0|100000|\n",
      "| 1.0|900000|\n",
      "+----+------+\n",
      "\n"
     ]
    },
    {
     "name": "stderr",
     "output_type": "stream",
     "text": [
      "[Stage 160:============================>                            (4 + 4) / 8]\r"
     ]
    },
    {
     "name": "stdout",
     "output_type": "stream",
     "text": [
      "+----+------+\n",
      "|_c18| count|\n",
      "+----+------+\n",
      "| 0.0|100000|\n",
      "| 1.0|900000|\n",
      "+----+------+\n",
      "\n"
     ]
    },
    {
     "name": "stderr",
     "output_type": "stream",
     "text": [
      "                                                                                \r"
     ]
    }
   ],
   "source": [
    "dfTra.groupby(dfTra['_c18']).count().show()\n",
    "dfTst.groupby(dfTst['_c18']).count().show()"
   ]
  },
  {
   "attachments": {},
   "cell_type": "markdown",
   "metadata": {},
   "source": [
    "Tanto el conjunto de entrenamiento como el conjunto de test están desbalanceados (1/9), lo que supone un problema a la hora de entrenar los modelos.\n",
    "\n",
    "---"
   ]
  },
  {
   "attachments": {},
   "cell_type": "markdown",
   "metadata": {},
   "source": [
    "# Preprocesamiento"
   ]
  },
  {
   "attachments": {},
   "cell_type": "markdown",
   "metadata": {},
   "source": [
    "## RUS"
   ]
  },
  {
   "cell_type": "code",
   "execution_count": 3,
   "metadata": {},
   "outputs": [],
   "source": [
    "import pyspark\n",
    "from pyspark.ml.feature import VectorAssembler\n",
    "from pyspark.mllib.regression import LabeledPoint\n",
    "\n",
    "def RUS(train):\n",
    "    if isinstance(train, pyspark.RDD):\n",
    "        train_positive = train.filter(lambda lp: lp.label == 1)\n",
    "        train_negative = train.filter(lambda lp: lp.label == 0)\n",
    "        partitions = train.getNumPartitions()\n",
    "    else:\n",
    "        train_positive = train.where(\"label == 1\")\n",
    "        train_negative = train.where(\"label == 0\")\n",
    "        partitions = train.rdd.getNumPartitions()\n",
    "    num_neg = float(train_negative.count())\n",
    "    num_pos = float(train_positive.count())\n",
    "\n",
    "    if num_pos > num_neg:\n",
    "        fraction = num_neg / num_pos\n",
    "        undersample = train_negative.union(train_positive.sample(False, fraction))\n",
    "    else:\n",
    "        fraction = num_pos / num_neg\n",
    "        undersample = train_positive.union(train_negative.sample(False, fraction))\n",
    "\n",
    "    return undersample.repartition(partitions)"
   ]
  },
  {
   "attachments": {},
   "cell_type": "markdown",
   "metadata": {},
   "source": [
    "## ROS"
   ]
  },
  {
   "cell_type": "code",
   "execution_count": 4,
   "metadata": {},
   "outputs": [],
   "source": [
    "def ROS(train, overRate):\n",
    "    if isinstance(train, pyspark.RDD):\n",
    "        train_positive = train.filter(lambda lp: lp.label == 1)\n",
    "        train_negative = train.filter(lambda lp: lp.label == 0)\n",
    "        partitions = train.getNumPartitions()\n",
    "    else:\n",
    "        train_positive = train.where(\"label == 1\")\n",
    "        train_negative = train.where(\"label == 0\")\n",
    "        partitions = train.rdd.getNumPartitions()\n",
    "\n",
    "    num_neg = float(train_negative.count())\n",
    "    num_pos = float(train_positive.count())\n",
    "\n",
    "    if num_pos > num_neg:\n",
    "        fraction = (num_pos * overRate) / num_neg\n",
    "        oversample = train_positive.union(train_negative.sample(True, fraction))\n",
    "    else:\n",
    "        fraction = (num_neg * overRate) / num_pos\n",
    "        oversample = train_negative.union(train_positive.sample(True, fraction))\n",
    "\n",
    "    return oversample.repartition(partitions)"
   ]
  },
  {
   "attachments": {},
   "cell_type": "markdown",
   "metadata": {},
   "source": [
    "## Funciones auxiliares"
   ]
  },
  {
   "cell_type": "code",
   "execution_count": 5,
   "metadata": {},
   "outputs": [],
   "source": [
    "# Guardar los datos de un modelo en un diccionario\n",
    "def append_model(models, name, result):\n",
    "    models.append(\n",
    "        {\n",
    "            'modelo':name,\n",
    "            'score':result\n",
    "        }\n",
    "    )"
   ]
  },
  {
   "cell_type": "code",
   "execution_count": 6,
   "metadata": {},
   "outputs": [],
   "source": [
    "# Obtener la métrica TPRxTNR\n",
    "from pyspark.mllib.evaluation import MulticlassMetrics\n",
    "\n",
    "def get_evaluation(predictions):\n",
    "    predandlabels = predictions.select(\"prediction\", \"label\").rdd\n",
    "    metrics = MulticlassMetrics(predandlabels)\n",
    "\n",
    "    cm = metrics.confusionMatrix().toArray()\n",
    "    tn, fp, fn, tp = cm[0,0], cm[0,1], cm[1,0], cm[1,1]\n",
    "    tpr = tp/(tp+fn)\n",
    "    tnr = tn/(tn+fp)\n",
    "    evangelion = tpr*tnr\n",
    "    return evangelion"
   ]
  },
  {
   "attachments": {},
   "cell_type": "markdown",
   "metadata": {},
   "source": [
    "---\n",
    "# Entrenamiento"
   ]
  },
  {
   "attachments": {},
   "cell_type": "markdown",
   "metadata": {},
   "source": [
    "## Preprocesamiento"
   ]
  },
  {
   "cell_type": "code",
   "execution_count": 7,
   "metadata": {},
   "outputs": [],
   "source": [
    "from pyspark.ml.feature import VectorAssembler\n",
    "from pyspark.ml.feature import RobustScaler\n",
    "\n",
    "# Cambiamos la columna clase de Double a Integer\n",
    "dfTra.withColumn('_c18', dfTra._c18.cast(\"Integer\"))\n",
    "dfTst.withColumn('_c18', dfTst._c18.cast(\"Integer\"))\n",
    "dfTra = dfTra.withColumnRenamed(\"_c18\",\"label\")\n",
    "dfTst = dfTst.withColumnRenamed(\"_c18\",\"label\")\n",
    "\n",
    "# Preprocesamos los datos para ser utilizados en un algoritmo de ML\n",
    "# Unimos las variables de entrada con VectorAssembler\n",
    "assembler = VectorAssembler(inputCols=dfTra.columns[:-1],outputCol=\"atributos\")\n",
    "# Normalizamos los atributos de entrada\n",
    "scaler = RobustScaler(inputCol=\"atributos\", outputCol='features', \n",
    "                      withScaling=True, withCentering=True,\n",
    "                      lower=0.25, upper=0.75)\n",
    "\n",
    "# Añadimos el preprocesamiento a una tubería\n",
    "from pyspark.ml import Pipeline\n",
    "etapas = [assembler,scaler]"
   ]
  },
  {
   "cell_type": "code",
   "execution_count": 8,
   "metadata": {},
   "outputs": [],
   "source": [
    "modelos = []"
   ]
  },
  {
   "cell_type": "code",
   "execution_count": 9,
   "metadata": {},
   "outputs": [],
   "source": [
    "# Creamos tuberias con cada modelo de entrenamiento\n",
    "from pyspark.ml.classification import LogisticRegression\n",
    "from pyspark.ml.classification import DecisionTreeClassifier\n",
    "from pyspark.ml.classification import RandomForestClassifier\n",
    "from synapse.ml.lightgbm import *\n",
    "\n",
    "lr = LogisticRegression(maxIter=10, regParam=0.01)\n",
    "lr_pipe = Pipeline(stages=etapas + [lr])\n",
    "\n",
    "dt = DecisionTreeClassifier(maxDepth=4)\n",
    "dt_pipe = Pipeline(stages=etapas + [dt])\n",
    "\n",
    "rt = RandomForestClassifier()\n",
    "rt_pipe = Pipeline(stages=etapas + [rt])\n",
    "\n",
    "lgbm = LightGBMClassifier(numIterations=10)\n",
    "lgbm_pipe = Pipeline(stages=etapas + [lgbm])"
   ]
  },
  {
   "attachments": {},
   "cell_type": "markdown",
   "metadata": {},
   "source": [
    "## Modelos base"
   ]
  },
  {
   "cell_type": "code",
   "execution_count": 10,
   "metadata": {},
   "outputs": [
    {
     "name": "stderr",
     "output_type": "stream",
     "text": [
      "                                                                                \r"
     ]
    },
    {
     "name": "stdout",
     "output_type": "stream",
     "text": [
      "23/05/15 13:11:18 WARN package: Truncated the string representation of a plan since it was too large. This behavior can be adjusted by setting 'spark.sql.debug.maxToStringFields'.\n"
     ]
    },
    {
     "name": "stderr",
     "output_type": "stream",
     "text": [
      "/home/miguel/.local/lib/python3.10/site-packages/pyspark/sql/context.py:157: FutureWarning: Deprecated in 3.0.0. Use SparkSession.builder.getOrCreate() instead.\n",
      "  warnings.warn(\n",
      "/home/miguel/.local/lib/python3.10/site-packages/pyspark/sql/context.py:157: FutureWarning: Deprecated in 3.0.0. Use SparkSession.builder.getOrCreate() instead.\n",
      "  warnings.warn(\n",
      "[Stage 87:===========================================>              (6 + 2) / 8]\r"
     ]
    },
    {
     "name": "stdout",
     "output_type": "stream",
     "text": [
      "[{'modelo': 'LogisticRegression', 'score': 0.000799960888888889}, {'modelo': 'DecisionTrees', 'score': 0.0}, {'modelo': 'RandomForest', 'score': 0.0}, {'modelo': 'LightGBM', 'score': 0.0}]\n"
     ]
    },
    {
     "name": "stderr",
     "output_type": "stream",
     "text": [
      "                                                                                \r"
     ]
    }
   ],
   "source": [
    "# Entrenamiento y prediccion de modelos base\n",
    "modeloLR = lr_pipe.fit(dfTra)\n",
    "prediccionesLR = modeloLR.transform(dfTst)\n",
    "modeloDTree = dt_pipe.fit(dfTra)\n",
    "prediccionesDTree = modeloDTree.transform(dfTst)\n",
    "modeloRandF = rt_pipe.fit(dfTra)\n",
    "prediccionesRandF = modeloRandF.transform(dfTst)\n",
    "modeloLightgbm = lgbm_pipe.fit(dfTra)\n",
    "prediccionesLight = modeloLightgbm.transform(dfTst)\n",
    "\n",
    "# Evaluación de los modelos y calculo del TPR x TNR\n",
    "eva_lr = get_evaluation(prediccionesLR)\n",
    "append_model(modelos, 'LogisticRegression', eva_lr)\n",
    "eva_dtree = get_evaluation(prediccionesDTree)\n",
    "append_model(modelos, 'DecisionTrees', eva_dtree)\n",
    "eva_randf = get_evaluation(prediccionesRandF)\n",
    "append_model(modelos, 'RandomForest', eva_randf)\n",
    "eva_light = get_evaluation(prediccionesLight)\n",
    "append_model(modelos, 'LightGBM', eva_randf)\n",
    "\n",
    "print(modelos)"
   ]
  },
  {
   "attachments": {},
   "cell_type": "markdown",
   "metadata": {},
   "source": [
    "## Modelos con RUS"
   ]
  },
  {
   "cell_type": "code",
   "execution_count": 11,
   "metadata": {},
   "outputs": [
    {
     "name": "stderr",
     "output_type": "stream",
     "text": [
      "[Stage 231:============================>                            (4 + 4) / 8]\r"
     ]
    },
    {
     "name": "stdout",
     "output_type": "stream",
     "text": [
      "[{'modelo': 'LogisticRegression', 'score': 0.000799960888888889}, {'modelo': 'DecisionTrees', 'score': 0.0}, {'modelo': 'RandomForest', 'score': 0.0}, {'modelo': 'LightGBM', 'score': 0.0}, {'modelo': 'LogisticRegression_RUS', 'score': 0.595897232}, {'modelo': 'DecisionTrees_RUS', 'score': 0.5711190385}, {'modelo': 'RandomForest_RUS', 'score': 0.5867992923333334}, {'modelo': 'LightGBM_RUS', 'score': 0.5867992923333334}]\n"
     ]
    },
    {
     "name": "stderr",
     "output_type": "stream",
     "text": [
      "                                                                                \r"
     ]
    }
   ],
   "source": [
    "# Aplicamos Random Undersampling al conjunto de entrenamiento\n",
    "dfTraRUS = RUS(dfTra)\n",
    "\n",
    "# Entrenamiento y prediccion de modelos utilizando RUS\n",
    "modeloLR = lr_pipe.fit(dfTraRUS)\n",
    "prediccionesLR = modeloLR.transform(dfTst)\n",
    "modeloDTree = dt_pipe.fit(dfTraRUS)\n",
    "prediccionesDTree = modeloDTree.transform(dfTst)\n",
    "modeloRandF = rt_pipe.fit(dfTraRUS)\n",
    "prediccionesRandF = modeloRandF.transform(dfTst)\n",
    "modeloLightgbm = lgbm_pipe.fit(dfTraRUS)\n",
    "prediccionesLight = modeloLightgbm.transform(dfTst)\n",
    "\n",
    "# Evaluación de los modelos y calculo del TPR x TNR\n",
    "eva_lr = get_evaluation(prediccionesLR)\n",
    "append_model(modelos, 'LogisticRegression_RUS', eva_lr)\n",
    "eva_dtree = get_evaluation(prediccionesDTree)\n",
    "append_model(modelos, 'DecisionTrees_RUS', eva_dtree)\n",
    "eva_randf = get_evaluation(prediccionesRandF)\n",
    "append_model(modelos, 'RandomForest_RUS', eva_randf)\n",
    "eva_light = get_evaluation(prediccionesLight)\n",
    "append_model(modelos, 'LightGBM_RUS', eva_randf)\n",
    "\n",
    "print(modelos)"
   ]
  },
  {
   "attachments": {},
   "cell_type": "markdown",
   "metadata": {},
   "source": [
    "## Modelo con ROS"
   ]
  },
  {
   "cell_type": "code",
   "execution_count": 12,
   "metadata": {},
   "outputs": [
    {
     "name": "stderr",
     "output_type": "stream",
     "text": [
      "[Stage 334:>                                                        (0 + 8) / 8]\r"
     ]
    },
    {
     "name": "stdout",
     "output_type": "stream",
     "text": [
      "23/05/15 13:19:38 WARN MemoryStore: Not enough space to cache rdd_1135_5 in memory! (computed 45.0 MiB so far)\n",
      "23/05/15 13:19:38 WARN BlockManager: Persisting block rdd_1135_5 to disk instead.\n",
      "23/05/15 13:19:38 WARN MemoryStore: Not enough space to cache rdd_1135_3 in memory! (computed 45.0 MiB so far)\n",
      "23/05/15 13:19:38 WARN BlockManager: Persisting block rdd_1135_3 to disk instead.\n"
     ]
    },
    {
     "name": "stderr",
     "output_type": "stream",
     "text": [
      "[Stage 375:===================================>                     (5 + 3) / 8]\r"
     ]
    },
    {
     "name": "stdout",
     "output_type": "stream",
     "text": [
      "[{'modelo': 'LogisticRegression', 'score': 0.000799960888888889}, {'modelo': 'DecisionTrees', 'score': 0.0}, {'modelo': 'RandomForest', 'score': 0.0}, {'modelo': 'LightGBM', 'score': 0.0}, {'modelo': 'LogisticRegression_RUS', 'score': 0.595897232}, {'modelo': 'DecisionTrees_RUS', 'score': 0.5711190385}, {'modelo': 'RandomForest_RUS', 'score': 0.5867992923333334}, {'modelo': 'LightGBM_RUS', 'score': 0.5867992923333334}, {'modelo': 'LogisticRegression_ROS', 'score': 0.6010302632666666}, {'modelo': 'DecisionTrees_ROS', 'score': 0.5765474765}, {'modelo': 'RandomForest_ROS', 'score': 0.5794295205555555}, {'modelo': 'LightGBM_ROS', 'score': 0.5794295205555555}]\n"
     ]
    },
    {
     "name": "stderr",
     "output_type": "stream",
     "text": [
      "                                                                                \r"
     ]
    }
   ],
   "source": [
    "# Aplicamos Random Oversampling al conjunto de entrenamiento\n",
    "dfTraROS = ROS(dfTra,0.8)\n",
    "\n",
    "# Entrenamiento y prediccion de modelos utilizando ROS\n",
    "modeloLR = lr_pipe.fit(dfTraROS)\n",
    "prediccionesLR = modeloLR.transform(dfTst)\n",
    "modeloDTree = dt_pipe.fit(dfTraROS)\n",
    "prediccionesDTree = modeloDTree.transform(dfTst)\n",
    "modeloRandF = rt_pipe.fit(dfTraROS)\n",
    "prediccionesRandF = modeloRandF.transform(dfTst)\n",
    "modeloLightgbm = lgbm_pipe.fit(dfTraROS)\n",
    "prediccionesLight = modeloLightgbm.transform(dfTst)\n",
    "\n",
    "# Evaluación de los modelos y calculo del TPR x TNR\n",
    "eva_lr = get_evaluation(prediccionesLR)\n",
    "append_model(modelos, 'LogisticRegression_ROS', eva_lr)\n",
    "eva_dtree = get_evaluation(prediccionesDTree)\n",
    "append_model(modelos, 'DecisionTrees_ROS', eva_dtree)\n",
    "eva_randf = get_evaluation(prediccionesRandF)\n",
    "append_model(modelos, 'RandomForest_ROS', eva_randf)\n",
    "eva_light = get_evaluation(prediccionesLight)\n",
    "append_model(modelos, 'LightGBM_ROS', eva_randf)\n",
    "\n",
    "print(modelos)"
   ]
  },
  {
   "attachments": {},
   "cell_type": "markdown",
   "metadata": {},
   "source": [
    "## Preprocesamiento con selección de características"
   ]
  },
  {
   "cell_type": "code",
   "execution_count": 13,
   "metadata": {},
   "outputs": [],
   "source": [
    "from pyspark.ml.feature import UnivariateFeatureSelector\n",
    "\n",
    "# Unimos las variables de entrada con VectorAssembler\n",
    "assembler = VectorAssembler(inputCols=dfTra.columns[:-1],outputCol=\"atributos\")\n",
    "\n",
    "# Seleccionamos las mejores características\n",
    "selector = UnivariateFeatureSelector(featuresCol='atributos', outputCol='atributos_sel', selectionMode='fpr')\n",
    "selector.setFeatureType(\"continuous\") \\\n",
    "        .setLabelType('categorical')\n",
    "\n",
    "# Normalizamos los atributos de entrada\n",
    "scaler = RobustScaler(inputCol=\"atributos_sel\", outputCol='features', \n",
    "                      withScaling=True, withCentering=True,\n",
    "                      lower=0.25, upper=0.75)\n",
    "\n",
    "# Añadimos el preprocesamiento a una tubería\n",
    "from pyspark.ml import Pipeline\n",
    "etapas = [assembler,selector,scaler]"
   ]
  },
  {
   "cell_type": "code",
   "execution_count": 14,
   "metadata": {},
   "outputs": [],
   "source": [
    "lr = LogisticRegression(maxIter=10, regParam=0.01)\n",
    "lr_pipe = Pipeline(stages=etapas + [lr])\n",
    "\n",
    "dt = DecisionTreeClassifier(maxDepth=4)\n",
    "dt_pipe = Pipeline(stages=etapas + [dt])\n",
    "\n",
    "rt = RandomForestClassifier()\n",
    "rt_pipe = Pipeline(stages=etapas + [rt])\n",
    "\n",
    "lgbm = LightGBMClassifier(numIterations=10)\n",
    "lgbm_pipe = Pipeline(stages=etapas + [lgbm])"
   ]
  },
  {
   "attachments": {},
   "cell_type": "markdown",
   "metadata": {},
   "source": [
    "Así obtenemos una tubería con selección de características para entrenar los modelos. Por otra parte, obtenemos las características seleccionadas."
   ]
  },
  {
   "cell_type": "code",
   "execution_count": 27,
   "metadata": {},
   "outputs": [
    {
     "name": "stderr",
     "output_type": "stream",
     "text": [
      "                                                                                \r"
     ]
    },
    {
     "data": {
      "text/plain": [
       "array(['_c16', '_c0', '_c8', '_c17', '_c9', '_c10', '_c11', '_c3', '_c12',\n",
       "       '_c13', '_c14', '_c6', '_c15'], dtype='<U5')"
      ]
     },
     "execution_count": 27,
     "metadata": {},
     "output_type": "execute_result"
    }
   ],
   "source": [
    "import numpy as np\n",
    "\n",
    "assembler = VectorAssembler(inputCols=dfTra.columns[:-1],outputCol=\"atributos\")\n",
    "vec_df = assembler.transform(dfTra)\n",
    "\n",
    "selector = UnivariateFeatureSelector(featuresCol='atributos', outputCol='atributos_sel', selectionMode='fpr')\n",
    "selector.setFeatureType(\"continuous\") \\\n",
    "        .setLabelType('categorical')\n",
    "\n",
    "modelo = selector.fit(vec_df)\n",
    "np.array(dfTra.columns)[modelo.selectedFeatures]"
   ]
  },
  {
   "attachments": {},
   "cell_type": "markdown",
   "metadata": {},
   "source": [
    "Se obtienen 13 características de las 18 posibles. De esta forma conseguimos reducir el tamaño del conjunto de entrenamiento en un **27.78%**."
   ]
  },
  {
   "attachments": {},
   "cell_type": "markdown",
   "metadata": {},
   "source": [
    "## Modelo base con selección de características"
   ]
  },
  {
   "cell_type": "code",
   "execution_count": 15,
   "metadata": {},
   "outputs": [
    {
     "name": "stderr",
     "output_type": "stream",
     "text": [
      "[Stage 470:==========================================>              (6 + 2) / 8]\r"
     ]
    },
    {
     "name": "stdout",
     "output_type": "stream",
     "text": [
      "[{'modelo': 'LogisticRegression', 'score': 0.000799960888888889}, {'modelo': 'DecisionTrees', 'score': 0.0}, {'modelo': 'RandomForest', 'score': 0.0}, {'modelo': 'LightGBM', 'score': 0.0}, {'modelo': 'LogisticRegression_RUS', 'score': 0.595897232}, {'modelo': 'DecisionTrees_RUS', 'score': 0.5711190385}, {'modelo': 'RandomForest_RUS', 'score': 0.5867992923333334}, {'modelo': 'LightGBM_RUS', 'score': 0.5867992923333334}, {'modelo': 'LogisticRegression_ROS', 'score': 0.6010302632666666}, {'modelo': 'DecisionTrees_ROS', 'score': 0.5765474765}, {'modelo': 'RandomForest_ROS', 'score': 0.5794295205555555}, {'modelo': 'LightGBM_ROS', 'score': 0.5794295205555555}, {'modelo': 'LogisticRegression_FeatSel', 'score': 0.0008099594999999999}, {'modelo': 'DecisionTrees_FeatSel', 'score': 0.0}, {'modelo': 'RandomForest_FeatSel', 'score': 0.0}, {'modelo': 'LightGBM_FeatSel', 'score': 0.0}]\n"
     ]
    },
    {
     "name": "stderr",
     "output_type": "stream",
     "text": [
      "                                                                                \r"
     ]
    }
   ],
   "source": [
    "#Entrenamiento y prediccion de modelos base con seleccion de características\n",
    "modeloLR = lr_pipe.fit(dfTra)\n",
    "prediccionesLR = modeloLR.transform(dfTst)\n",
    "modeloDTree = dt_pipe.fit(dfTra)\n",
    "prediccionesDTree = modeloDTree.transform(dfTst)\n",
    "modeloRandF = rt_pipe.fit(dfTra)\n",
    "prediccionesRandF = modeloRandF.transform(dfTst)\n",
    "modeloLightgbm = lgbm_pipe.fit(dfTra)\n",
    "prediccionesLight = modeloLightgbm.transform(dfTst)\n",
    "\n",
    "#Evaluación de los modelos y calculo del TPR x TNR\n",
    "eva_lr = get_evaluation(prediccionesLR)\n",
    "append_model(modelos, 'LogisticRegression_FeatSel', eva_lr)\n",
    "eva_dtree = get_evaluation(prediccionesDTree)\n",
    "append_model(modelos, 'DecisionTrees_FeatSel', eva_dtree)\n",
    "eva_randf = get_evaluation(prediccionesRandF)\n",
    "append_model(modelos, 'RandomForest_FeatSel', eva_randf)\n",
    "eva_light = get_evaluation(prediccionesLight)\n",
    "append_model(modelos, 'LightGBM_FeatSel', eva_randf)\n",
    "\n",
    "print(modelos)"
   ]
  },
  {
   "attachments": {},
   "cell_type": "markdown",
   "metadata": {},
   "source": [
    "## Modelo con RUS"
   ]
  },
  {
   "cell_type": "code",
   "execution_count": 16,
   "metadata": {},
   "outputs": [
    {
     "name": "stderr",
     "output_type": "stream",
     "text": [
      "[Stage 632:=================================================>       (7 + 1) / 8]\r"
     ]
    },
    {
     "name": "stdout",
     "output_type": "stream",
     "text": [
      "[{'modelo': 'LogisticRegression', 'score': 0.000799960888888889}, {'modelo': 'DecisionTrees', 'score': 0.0}, {'modelo': 'RandomForest', 'score': 0.0}, {'modelo': 'LightGBM', 'score': 0.0}, {'modelo': 'LogisticRegression_RUS', 'score': 0.595897232}, {'modelo': 'DecisionTrees_RUS', 'score': 0.5711190385}, {'modelo': 'RandomForest_RUS', 'score': 0.5867992923333334}, {'modelo': 'LightGBM_RUS', 'score': 0.5867992923333334}, {'modelo': 'LogisticRegression_ROS', 'score': 0.6010302632666666}, {'modelo': 'DecisionTrees_ROS', 'score': 0.5765474765}, {'modelo': 'RandomForest_ROS', 'score': 0.5794295205555555}, {'modelo': 'LightGBM_ROS', 'score': 0.5794295205555555}, {'modelo': 'LogisticRegression_FeatSel', 'score': 0.0008099594999999999}, {'modelo': 'DecisionTrees_FeatSel', 'score': 0.0}, {'modelo': 'RandomForest_FeatSel', 'score': 0.0}, {'modelo': 'LightGBM_FeatSel', 'score': 0.0}, {'modelo': 'LogisticRegression_RUS_FeatSel', 'score': 0.595848988}, {'modelo': 'DecisionTrees_RUS_FeatSel', 'score': 0.5711190385}, {'modelo': 'RandomForest_RUS_FeatSel', 'score': 0.5891887872}, {'modelo': 'LightGBM_RUS_FeatSel', 'score': 0.5891887872}]\n"
     ]
    },
    {
     "name": "stderr",
     "output_type": "stream",
     "text": [
      "                                                                                \r"
     ]
    }
   ],
   "source": [
    "# Conservamos el conjunto de datos dfTraRUS\n",
    "# Entrenamiento y prediccion de modelos utilizando RUS\n",
    "modeloLR = lr_pipe.fit(dfTraRUS)\n",
    "prediccionesLR = modeloLR.transform(dfTst)\n",
    "modeloDTree = dt_pipe.fit(dfTraRUS)\n",
    "prediccionesDTree = modeloDTree.transform(dfTst)\n",
    "modeloRandF = rt_pipe.fit(dfTraRUS)\n",
    "prediccionesRandF = modeloRandF.transform(dfTst)\n",
    "modeloLightgbm = lgbm_pipe.fit(dfTraRUS)\n",
    "prediccionesLight = modeloLightgbm.transform(dfTst)\n",
    "\n",
    "# Evaluación de los modelos y calculo del TPR x TNR\n",
    "eva_lr = get_evaluation(prediccionesLR)\n",
    "append_model(modelos, 'LogisticRegression_RUS_FeatSel', eva_lr)\n",
    "eva_dtree = get_evaluation(prediccionesDTree)\n",
    "append_model(modelos, 'DecisionTrees_RUS_FeatSel', eva_dtree)\n",
    "eva_randf = get_evaluation(prediccionesRandF)\n",
    "append_model(modelos, 'RandomForest_RUS_FeatSel', eva_randf)\n",
    "eva_light = get_evaluation(prediccionesLight)\n",
    "append_model(modelos, 'LightGBM_RUS_FeatSel', eva_randf)\n",
    "\n",
    "print(modelos)"
   ]
  },
  {
   "attachments": {},
   "cell_type": "markdown",
   "metadata": {},
   "source": [
    "## Modelo con ROS"
   ]
  },
  {
   "cell_type": "code",
   "execution_count": 17,
   "metadata": {},
   "outputs": [
    {
     "name": "stderr",
     "output_type": "stream",
     "text": [
      "[Stage 747:>                                                        (0 + 8) / 8]\r"
     ]
    },
    {
     "name": "stdout",
     "output_type": "stream",
     "text": [
      "23/05/15 13:35:46 WARN MemoryStore: Not enough space to cache rdd_2582_4 in memory! (computed 43.6 MiB so far)\n",
      "23/05/15 13:35:46 WARN BlockManager: Persisting block rdd_2582_4 to disk instead.\n",
      "23/05/15 13:35:46 WARN MemoryStore: Not enough space to cache rdd_2582_7 in memory! (computed 43.6 MiB so far)\n",
      "23/05/15 13:35:46 WARN BlockManager: Persisting block rdd_2582_7 to disk instead.\n",
      "23/05/15 13:35:46 WARN MemoryStore: Not enough space to cache rdd_2582_2 in memory! (computed 43.6 MiB so far)\n",
      "23/05/15 13:35:46 WARN BlockManager: Persisting block rdd_2582_2 to disk instead.\n",
      "23/05/15 13:35:46 WARN MemoryStore: Not enough space to cache rdd_2582_5 in memory! (computed 43.6 MiB so far)\n",
      "23/05/15 13:35:46 WARN BlockManager: Persisting block rdd_2582_5 to disk instead.\n"
     ]
    },
    {
     "name": "stderr",
     "output_type": "stream",
     "text": [
      "[Stage 794:=================================================>       (7 + 1) / 8]\r"
     ]
    },
    {
     "name": "stdout",
     "output_type": "stream",
     "text": [
      "[{'modelo': 'LogisticRegression', 'score': 0.000799960888888889}, {'modelo': 'DecisionTrees', 'score': 0.0}, {'modelo': 'RandomForest', 'score': 0.0}, {'modelo': 'LightGBM', 'score': 0.0}, {'modelo': 'LogisticRegression_RUS', 'score': 0.595897232}, {'modelo': 'DecisionTrees_RUS', 'score': 0.5711190385}, {'modelo': 'RandomForest_RUS', 'score': 0.5867992923333334}, {'modelo': 'LightGBM_RUS', 'score': 0.5867992923333334}, {'modelo': 'LogisticRegression_ROS', 'score': 0.6010302632666666}, {'modelo': 'DecisionTrees_ROS', 'score': 0.5765474765}, {'modelo': 'RandomForest_ROS', 'score': 0.5794295205555555}, {'modelo': 'LightGBM_ROS', 'score': 0.5794295205555555}, {'modelo': 'LogisticRegression_FeatSel', 'score': 0.0008099594999999999}, {'modelo': 'DecisionTrees_FeatSel', 'score': 0.0}, {'modelo': 'RandomForest_FeatSel', 'score': 0.0}, {'modelo': 'LightGBM_FeatSel', 'score': 0.0}, {'modelo': 'LogisticRegression_RUS_FeatSel', 'score': 0.595848988}, {'modelo': 'DecisionTrees_RUS_FeatSel', 'score': 0.5711190385}, {'modelo': 'RandomForest_RUS_FeatSel', 'score': 0.5891887872}, {'modelo': 'LightGBM_RUS_FeatSel', 'score': 0.5891887872}, {'modelo': 'LogisticRegression_ROS_FeatSel', 'score': 0.6008771928}, {'modelo': 'DecisionTrees_ROS_FeatSel', 'score': 0.5765474765}, {'modelo': 'RandomForest_ROS_FeatSel', 'score': 0.5771446923333333}, {'modelo': 'LightGBM_ROS_FeatSel', 'score': 0.5771446923333333}]\n"
     ]
    },
    {
     "name": "stderr",
     "output_type": "stream",
     "text": [
      "                                                                                \r"
     ]
    }
   ],
   "source": [
    "# Conservamos el conjunto de datos dfTraROS\n",
    "# Entrenamiento y prediccion de modelos utilizando ROS\n",
    "modeloLR = lr_pipe.fit(dfTraROS)\n",
    "prediccionesLR = modeloLR.transform(dfTst)\n",
    "modeloDTree = dt_pipe.fit(dfTraROS)\n",
    "prediccionesDTree = modeloDTree.transform(dfTst)\n",
    "modeloRandF = rt_pipe.fit(dfTraROS)\n",
    "prediccionesRandF = modeloRandF.transform(dfTst)\n",
    "modeloLightgbm = lgbm_pipe.fit(dfTraRUS)\n",
    "prediccionesLight = modeloLightgbm.transform(dfTst)\n",
    "\n",
    "# Evaluación de los modelos y calculo del TPR x TNR\n",
    "eva_lr = get_evaluation(prediccionesLR)\n",
    "append_model(modelos, 'LogisticRegression_ROS_FeatSel', eva_lr)\n",
    "eva_dtree = get_evaluation(prediccionesDTree)\n",
    "append_model(modelos, 'DecisionTrees_ROS_FeatSel', eva_dtree)\n",
    "eva_randf = get_evaluation(prediccionesRandF)\n",
    "append_model(modelos, 'RandomForest_ROS_FeatSel', eva_randf)\n",
    "eva_light = get_evaluation(prediccionesLight)\n",
    "append_model(modelos, 'LightGBM_ROS_FeatSel', eva_randf)\n",
    "\n",
    "print(modelos)"
   ]
  },
  {
   "attachments": {},
   "cell_type": "markdown",
   "metadata": {},
   "source": [
    "# Resultados obtenidos"
   ]
  },
  {
   "cell_type": "code",
   "execution_count": 18,
   "metadata": {},
   "outputs": [
    {
     "data": {
      "text/html": [
       "<div>\n",
       "<style scoped>\n",
       "    .dataframe tbody tr th:only-of-type {\n",
       "        vertical-align: middle;\n",
       "    }\n",
       "\n",
       "    .dataframe tbody tr th {\n",
       "        vertical-align: top;\n",
       "    }\n",
       "\n",
       "    .dataframe thead th {\n",
       "        text-align: right;\n",
       "    }\n",
       "</style>\n",
       "<table border=\"1\" class=\"dataframe\">\n",
       "  <thead>\n",
       "    <tr style=\"text-align: right;\">\n",
       "      <th></th>\n",
       "      <th>modelo</th>\n",
       "      <th>score</th>\n",
       "    </tr>\n",
       "  </thead>\n",
       "  <tbody>\n",
       "    <tr>\n",
       "      <th>8</th>\n",
       "      <td>LogisticRegression_ROS</td>\n",
       "      <td>0.601030</td>\n",
       "    </tr>\n",
       "    <tr>\n",
       "      <th>20</th>\n",
       "      <td>LogisticRegression_ROS_FeatSel</td>\n",
       "      <td>0.600877</td>\n",
       "    </tr>\n",
       "    <tr>\n",
       "      <th>4</th>\n",
       "      <td>LogisticRegression_RUS</td>\n",
       "      <td>0.595897</td>\n",
       "    </tr>\n",
       "    <tr>\n",
       "      <th>16</th>\n",
       "      <td>LogisticRegression_RUS_FeatSel</td>\n",
       "      <td>0.595849</td>\n",
       "    </tr>\n",
       "    <tr>\n",
       "      <th>19</th>\n",
       "      <td>LightGBM_RUS_FeatSel</td>\n",
       "      <td>0.589189</td>\n",
       "    </tr>\n",
       "    <tr>\n",
       "      <th>18</th>\n",
       "      <td>RandomForest_RUS_FeatSel</td>\n",
       "      <td>0.589189</td>\n",
       "    </tr>\n",
       "    <tr>\n",
       "      <th>6</th>\n",
       "      <td>RandomForest_RUS</td>\n",
       "      <td>0.586799</td>\n",
       "    </tr>\n",
       "    <tr>\n",
       "      <th>7</th>\n",
       "      <td>LightGBM_RUS</td>\n",
       "      <td>0.586799</td>\n",
       "    </tr>\n",
       "    <tr>\n",
       "      <th>10</th>\n",
       "      <td>RandomForest_ROS</td>\n",
       "      <td>0.579430</td>\n",
       "    </tr>\n",
       "    <tr>\n",
       "      <th>11</th>\n",
       "      <td>LightGBM_ROS</td>\n",
       "      <td>0.579430</td>\n",
       "    </tr>\n",
       "    <tr>\n",
       "      <th>23</th>\n",
       "      <td>LightGBM_ROS_FeatSel</td>\n",
       "      <td>0.577145</td>\n",
       "    </tr>\n",
       "    <tr>\n",
       "      <th>22</th>\n",
       "      <td>RandomForest_ROS_FeatSel</td>\n",
       "      <td>0.577145</td>\n",
       "    </tr>\n",
       "    <tr>\n",
       "      <th>21</th>\n",
       "      <td>DecisionTrees_ROS_FeatSel</td>\n",
       "      <td>0.576547</td>\n",
       "    </tr>\n",
       "    <tr>\n",
       "      <th>9</th>\n",
       "      <td>DecisionTrees_ROS</td>\n",
       "      <td>0.576547</td>\n",
       "    </tr>\n",
       "    <tr>\n",
       "      <th>5</th>\n",
       "      <td>DecisionTrees_RUS</td>\n",
       "      <td>0.571119</td>\n",
       "    </tr>\n",
       "    <tr>\n",
       "      <th>17</th>\n",
       "      <td>DecisionTrees_RUS_FeatSel</td>\n",
       "      <td>0.571119</td>\n",
       "    </tr>\n",
       "    <tr>\n",
       "      <th>12</th>\n",
       "      <td>LogisticRegression_FeatSel</td>\n",
       "      <td>0.000810</td>\n",
       "    </tr>\n",
       "    <tr>\n",
       "      <th>0</th>\n",
       "      <td>LogisticRegression</td>\n",
       "      <td>0.000800</td>\n",
       "    </tr>\n",
       "    <tr>\n",
       "      <th>15</th>\n",
       "      <td>LightGBM_FeatSel</td>\n",
       "      <td>0.000000</td>\n",
       "    </tr>\n",
       "    <tr>\n",
       "      <th>14</th>\n",
       "      <td>RandomForest_FeatSel</td>\n",
       "      <td>0.000000</td>\n",
       "    </tr>\n",
       "    <tr>\n",
       "      <th>13</th>\n",
       "      <td>DecisionTrees_FeatSel</td>\n",
       "      <td>0.000000</td>\n",
       "    </tr>\n",
       "    <tr>\n",
       "      <th>1</th>\n",
       "      <td>DecisionTrees</td>\n",
       "      <td>0.000000</td>\n",
       "    </tr>\n",
       "    <tr>\n",
       "      <th>3</th>\n",
       "      <td>LightGBM</td>\n",
       "      <td>0.000000</td>\n",
       "    </tr>\n",
       "    <tr>\n",
       "      <th>2</th>\n",
       "      <td>RandomForest</td>\n",
       "      <td>0.000000</td>\n",
       "    </tr>\n",
       "  </tbody>\n",
       "</table>\n",
       "</div>"
      ],
      "text/plain": [
       "                            modelo     score\n",
       "8           LogisticRegression_ROS  0.601030\n",
       "20  LogisticRegression_ROS_FeatSel  0.600877\n",
       "4           LogisticRegression_RUS  0.595897\n",
       "16  LogisticRegression_RUS_FeatSel  0.595849\n",
       "19            LightGBM_RUS_FeatSel  0.589189\n",
       "18        RandomForest_RUS_FeatSel  0.589189\n",
       "6                 RandomForest_RUS  0.586799\n",
       "7                     LightGBM_RUS  0.586799\n",
       "10                RandomForest_ROS  0.579430\n",
       "11                    LightGBM_ROS  0.579430\n",
       "23            LightGBM_ROS_FeatSel  0.577145\n",
       "22        RandomForest_ROS_FeatSel  0.577145\n",
       "21       DecisionTrees_ROS_FeatSel  0.576547\n",
       "9                DecisionTrees_ROS  0.576547\n",
       "5                DecisionTrees_RUS  0.571119\n",
       "17       DecisionTrees_RUS_FeatSel  0.571119\n",
       "12      LogisticRegression_FeatSel  0.000810\n",
       "0               LogisticRegression  0.000800\n",
       "15                LightGBM_FeatSel  0.000000\n",
       "14            RandomForest_FeatSel  0.000000\n",
       "13           DecisionTrees_FeatSel  0.000000\n",
       "1                    DecisionTrees  0.000000\n",
       "3                         LightGBM  0.000000\n",
       "2                     RandomForest  0.000000"
      ]
     },
     "metadata": {},
     "output_type": "display_data"
    }
   ],
   "source": [
    "import pandas as pd\n",
    "import seaborn as sns\n",
    "import matplotlib.pyplot as plt\n",
    "\n",
    "modelos = pd.DataFrame(modelos)\n",
    "modelos.sort_values(by='score', ascending=False, inplace=True)\n",
    "display(modelos)"
   ]
  },
  {
   "attachments": {},
   "cell_type": "markdown",
   "metadata": {},
   "source": [
    "En la tabla anterior se representan las puntuaciones obtenidas para cada clasificador. Por la gran diferencia en el número de instancias, los modelos base (tanto los modelos con todas las características como los modelos que utilizan feature selection) se especializan en gran medida en el conjunto negativo o mayoritario y consiguen una puntuación muy baja para las instancias positivas.\n",
    "\n",
    "Una vez que se aplican técnicas para balancear los conjuntos se consiguen resultados más prometedores. A continuación graficamos los resultados de los clasificadores que han obtenido una puntuación mayor a 0 para realizar un estudio sobre ellos."
   ]
  },
  {
   "cell_type": "code",
   "execution_count": 19,
   "metadata": {},
   "outputs": [
    {
     "data": {
      "image/png": "[encoded data removed]",
      "text/plain": [
       "<Figure size 1080x360 with 1 Axes>"
      ]
     },
     "metadata": {
      "needs_background": "light"
     },
     "output_type": "display_data"
    }
   ],
   "source": [
    "plt.figure(figsize=(15,5))\n",
    "ax = sns.barplot(data=modelos.loc[modelos.score > 0.1], x='modelo', y='score')\n",
    "labels = ax.get_xticklabels()\n",
    "ax.set_xticklabels(labels=labels,rotation=90)\n",
    "ax.set_ylim(0.57,0.601)\n",
    "plt.show()"
   ]
  },
  {
   "attachments": {},
   "cell_type": "markdown",
   "metadata": {},
   "source": [
    "Los clasificadores basados en regresión logística son los que obtienen mejor puntuación para este problema, obteniendo para todos los clasificadores mejores puntuaciones que con el resto de modelos (RandomForest, DecisionTrees). En específico, el modelo basado en RandomOversampling es el que obtiene mejores resultados. \n",
    "\n",
    "La selección de características no modifica la puntuación de los clasificadores de forma significativa. Sin embargo, hemos visto que reduce el tamaño del conjunto de entrenamiento, lo que supone reducir el tiempo de entrenamiento. Por tanto, es un buen indicador y conservamos la selección de características para los modelos.\n",
    "\n",
    "Por tanto, para este problema se debería seleccionar el modelo basado en regresión logística aplicando RandomUndersampling o RandomOversampling con selección de características. La elección de la técnica de balanceo se dejaría en manos del experto en el dominio del problema."
   ]
  }
 ],
 "metadata": {
  "kernelspec": {
   "display_name": "Python 3",
   "language": "python",
   "name": "python3"
  },
  "language_info": {
   "codemirror_mode": {
    "name": "ipython",
    "version": 3
   },
   "file_extension": ".py",
   "mimetype": "text/x-python",
   "name": "python",
   "nbconvert_exporter": "python",
   "pygments_lexer": "ipython3",
   "version": "3.10.6"
  },
  "orig_nbformat": 4
 },
 "nbformat": 4,
 "nbformat_minor": 2
}
